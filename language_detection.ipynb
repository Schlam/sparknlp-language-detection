{
 "cells": [
  {
   "cell_type": "code",
   "execution_count": 1,
   "metadata": {
    "colab": {
     "base_uri": "https://localhost:8080/"
    },
    "id": "NXeGPU1rtOMa",
    "outputId": "fe6c8064-27fc-4213-f941-f0d53931ff22"
   },
   "outputs": [
    {
     "name": "stdout",
     "output_type": "stream",
     "text": [
      "openjdk version \"1.8.0_275\"\n",
      "OpenJDK Runtime Environment (build 1.8.0_275-8u275-b01-0ubuntu1~18.04-b01)\n",
      "OpenJDK 64-Bit Server VM (build 25.275-b01, mixed mode)\n",
      "Collecting pyspark==2.4.4\n",
      "\u001b[?25l  Downloading https://files.pythonhosted.org/packages/87/21/f05c186f4ddb01d15d0ddc36ef4b7e3cedbeb6412274a41f26b55a650ee5/pyspark-2.4.4.tar.gz (215.7MB)\n",
      "\u001b[K     |████████████████████████████████| 215.7MB 54kB/s \n",
      "\u001b[?25hCollecting py4j==0.10.7\n",
      "\u001b[?25l  Downloading https://files.pythonhosted.org/packages/e3/53/c737818eb9a7dc32a7cd4f1396e787bd94200c3997c72c1dbe028587bd76/py4j-0.10.7-py2.py3-none-any.whl (197kB)\n",
      "\u001b[K     |████████████████████████████████| 204kB 43.6MB/s \n",
      "\u001b[?25hBuilding wheels for collected packages: pyspark\n",
      "  Building wheel for pyspark (setup.py) ... \u001b[?25l\u001b[?25hdone\n",
      "  Created wheel for pyspark: filename=pyspark-2.4.4-py2.py3-none-any.whl size=216130389 sha256=4628362ab13f64334b2f94911e0a9563e12d058b01cfb59bd18d6b87cd544cb2\n",
      "  Stored in directory: /root/.cache/pip/wheels/ab/09/4d/0d184230058e654eb1b04467dbc1292f00eaa186544604b471\n",
      "Successfully built pyspark\n",
      "Installing collected packages: py4j, pyspark\n",
      "Successfully installed py4j-0.10.7 pyspark-2.4.4\n",
      "Collecting spark-nlp==2.6.2\n",
      "\u001b[?25l  Downloading https://files.pythonhosted.org/packages/f1/de/6db7be666e7c8b70d39bcb0d956d3d983bcb06ea3895308c84d7a131dfb1/spark_nlp-2.6.2-py2.py3-none-any.whl (128kB)\n",
      "\u001b[K     |████████████████████████████████| 133kB 9.5MB/s \n",
      "\u001b[?25hInstalling collected packages: spark-nlp\n",
      "Successfully installed spark-nlp-2.6.2\n"
     ]
    }
   ],
   "source": [
    "\n",
    "import os\n",
    "\n",
    "# Install java\n",
    "! apt-get update -qq\n",
    "! apt-get install -y openjdk-8-jdk-headless -qq > /dev/null\n",
    "\n",
    "os.environ[\"JAVA_HOME\"] = \"/usr/lib/jvm/java-8-openjdk-amd64\"\n",
    "os.environ[\"PATH\"] = os.environ[\"JAVA_HOME\"] + \"/bin:\" + os.environ[\"PATH\"]\n",
    "! java -version\n",
    "\n",
    "# Install pyspark\n",
    "! pip install --ignore-installed pyspark==2.4.4\n",
    "\n",
    "# Install Spark NLP\n",
    "! pip install --ignore-installed spark-nlp==2.6.2"
   ]
  },
  {
   "cell_type": "code",
   "execution_count": 2,
   "metadata": {
    "colab": {
     "base_uri": "https://localhost:8080/"
    },
    "id": "UihxAa42tPo4",
    "outputId": "a4d5ca52-6949-4ec6-e7b2-cb485856b506"
   },
   "outputs": [
    {
     "name": "stdout",
     "output_type": "stream",
     "text": [
      "Version of SparkNLP: 2.6.2\n",
      "Version of Spark : 2.4.4\n"
     ]
    }
   ],
   "source": [
    "import sparknlp\n",
    "spark = sparknlp.start()\n",
    "print(\"Version of SparkNLP:\", sparknlp.version())\n",
    "print(\"Version of Spark :\", spark.version)"
   ]
  },
  {
   "cell_type": "code",
   "execution_count": 3,
   "metadata": {
    "id": "vKjFIGChtnSw"
   },
   "outputs": [],
   "source": [
    "from pyspark.ml import Pipeline\n",
    "from sparknlp.annotator import *\n",
    "from sparknlp.common import *\n",
    "from sparknlp.base import *"
   ]
  },
  {
   "cell_type": "code",
   "execution_count": 4,
   "metadata": {
    "id": "YAmN5_2utvYH"
   },
   "outputs": [],
   "source": [
    "import pandas as pd\n",
    "\n",
    "# After uploading .gz file, open and clean with pandas \n",
    "dfPandas = pd.read_csv('reviews.csv.gz',compression='gzip')\n",
    "dfPandas = dfPandas.dropna()\n",
    "dfPandas['comments'] = dfPandas['comments'].map(\n",
    "    lambda x:x.replace('\\n','').replace('\\r',''))\n",
    "dfPandas.to_csv('review_data.csv', index=False)"
   ]
  },
  {
   "cell_type": "code",
   "execution_count": 5,
   "metadata": {
    "colab": {
     "base_uri": "https://localhost:8080/"
    },
    "id": "qdGYzbKNt2b2",
    "outputId": "7f55c2b4-fbc9-43f3-e73b-3c0b33b69d6e"
   },
   "outputs": [
    {
     "name": "stdout",
     "output_type": "stream",
     "text": [
      "+----------+------+----------+-----------+-------------+--------------------+\n",
      "|listing_id|    id|      date|reviewer_id|reviewer_name|            comments|\n",
      "+----------+------+----------+-----------+-------------+--------------------+\n",
      "|     17878| 64852|2010-07-15|     135370|          Tia|This apartment is...|\n",
      "|     17878| 76744|2010-08-11|      10206|         Mimi|we had a really g...|\n",
      "|     17878| 91074|2010-09-06|      80253|          Jan|Staying in Max ap...|\n",
      "|     17878|137528|2010-11-12|     230449|        Orene|In general very g...|\n",
      "|     17878|147594|2010-12-01|     219338|        David|The apt was nice ...|\n",
      "+----------+------+----------+-----------+-------------+--------------------+\n",
      "only showing top 5 rows\n",
      "\n"
     ]
    }
   ],
   "source": [
    "# Review data\n",
    "fileName = \"review_data.csv\"\n",
    "\n",
    "# Load into spark\n",
    "spark.sparkContext.addFile(fileName) ###### ERROR HERE???\n",
    "dfSpark = spark.read.csv(fileName, header=True)\n",
    "\n",
    "dfSpark.show(5)"
   ]
  },
  {
   "cell_type": "code",
   "execution_count": 9,
   "metadata": {
    "colab": {
     "base_uri": "https://localhost:8080/"
    },
    "id": "y7Y0FzMHuK1G",
    "outputId": "cb9acdc4-c1b0-4ee6-c2ce-5d74c010918e"
   },
   "outputs": [
    {
     "name": "stdout",
     "output_type": "stream",
     "text": [
      "ld_wiki_20 download started this may take some time.\n",
      "Approximate size to download 3 MB\n",
      "[OK!]\n"
     ]
    }
   ],
   "source": [
    "documentAssembler = DocumentAssembler()\\\n",
    "    .setInputCol(\"comments\")\\\n",
    "    .setOutputCol(\"document\")\n",
    "\n",
    "# Detect language\n",
    "detectLanguage = LanguageDetectorDL()\\\n",
    "    .pretrained('ld_wiki_20',lang='xx')\\\n",
    "    .setInputCols(['comments'])\\\n",
    "    .setOutputCol('language')\\\n",
    "    .setCoalesceSentences(False)\\\n",
    "    .setThreshold(.3)\n",
    "\n",
    "# Full pipeline\n",
    "pipeline = Pipeline(\n",
    "    stages=[documentAssembler,\n",
    "            detectLanguage])\n"
   ]
  },
  {
   "cell_type": "code",
   "execution_count": 21,
   "metadata": {
    "colab": {
     "base_uri": "https://localhost:8080/"
    },
    "id": "t64eIzVgv93P",
    "outputId": "2c439b79-7a38-4b6e-babd-4737cd117323"
   },
   "outputs": [
    {
     "name": "stdout",
     "output_type": "stream",
     "text": [
      "+----------+------+----------+-----------+-------------+------------------------------------------------------------+------------------------------------------------------------+\n",
      "|listing_id|    id|      date|reviewer_id|reviewer_name|                                                    comments|                                                    document|\n",
      "+----------+------+----------+-----------+-------------+------------------------------------------------------------+------------------------------------------------------------+\n",
      "|     17878| 64852|2010-07-15|     135370|          Tia|This apartment is in a perfect location -- two blocks fro...|[[document, 0, 396, This apartment is in a perfect locati...|\n",
      "|     17878| 76744|2010-08-11|      10206|         Mimi|we had a really great experience staying in Max's apartme...|[[document, 0, 325, we had a really great experience stay...|\n",
      "|     17878| 91074|2010-09-06|      80253|          Jan|Staying in Max appartment is like living in a cosy little...|[[document, 0, 382, Staying in Max appartment is like liv...|\n",
      "|     17878|137528|2010-11-12|     230449|        Orene|In general very good and reasonable price.It is really gr...|[[document, 0, 526, In general very good and reasonable p...|\n",
      "|     17878|147594|2010-12-01|     219338|        David|The apt was nice and in a great location only a couple of...|[[document, 0, 119, The apt was nice and in a great locat...|\n",
      "+----------+------+----------+-----------+-------------+------------------------------------------------------------+------------------------------------------------------------+\n",
      "only showing top 5 rows\n",
      "\n"
     ]
    }
   ],
   "source": [
    "# Assemble documents\n",
    "documentAssembler = DocumentAssembler()\\\n",
    "    .setInputCol(\"comments\")\\\n",
    "    .setOutputCol(\"document\")\n",
    "\n",
    "assembled = documentAssembler.transform(dfSpark)\n",
    "assembled.show(5, truncate=60)"
   ]
  },
  {
   "cell_type": "code",
   "execution_count": 23,
   "metadata": {
    "colab": {
     "base_uri": "https://localhost:8080/"
    },
    "id": "oTu_RcH8vi6v",
    "outputId": "bc78a1f6-14a9-41ba-8ce2-94d8790310e9"
   },
   "outputs": [
    {
     "name": "stdout",
     "output_type": "stream",
     "text": [
      "ld_wiki_20 download started this may take some time.\n",
      "Approximate size to download 3 MB\n",
      "[OK!]\n",
      "+----------+------+----------+-----------+-------------+--------------------+--------------------+--------------------+\n",
      "|listing_id|    id|      date|reviewer_id|reviewer_name|            comments|            document|            language|\n",
      "+----------+------+----------+-----------+-------------+--------------------+--------------------+--------------------+\n",
      "|     17878| 64852|2010-07-15|     135370|          Tia|This apartment is...|[[document, 0, 39...|[[language, 0, 39...|\n",
      "|     17878| 76744|2010-08-11|      10206|         Mimi|we had a really g...|[[document, 0, 32...|[[language, 0, 32...|\n",
      "|     17878| 91074|2010-09-06|      80253|          Jan|Staying in Max ap...|[[document, 0, 38...|[[language, 0, 38...|\n",
      "|     17878|137528|2010-11-12|     230449|        Orene|In general very g...|[[document, 0, 52...|[[language, 0, 52...|\n",
      "|     17878|147594|2010-12-01|     219338|        David|The apt was nice ...|[[document, 0, 11...|[[language, 0, 11...|\n",
      "+----------+------+----------+-----------+-------------+--------------------+--------------------+--------------------+\n",
      "only showing top 5 rows\n",
      "\n"
     ]
    }
   ],
   "source": [
    "# Detect language\n",
    "detectLanguage = LanguageDetectorDL()\\\n",
    "    .pretrained('ld_wiki_20',lang='xx')\\\n",
    "    .setInputCols(['document'])\\\n",
    "    .setOutputCol('language')\\\n",
    "    .setCoalesceSentences(False)\\\n",
    "    .setThreshold(.3)\n",
    "\n",
    "results = detectLanguage.transform(assembled)\n",
    "results.show(5)"
   ]
  },
  {
   "cell_type": "code",
   "execution_count": 25,
   "metadata": {
    "colab": {
     "base_uri": "https://localhost:8080/"
    },
    "id": "b4ZNMEWWwTeD",
    "outputId": "b46d3d9a-cafb-4ffe-a462-d290e20c1eef"
   },
   "outputs": [
    {
     "name": "stdout",
     "output_type": "stream",
     "text": [
      "+------------------------------------------------------------------------------------------------------------------------------------------------------------------------------------------------------------------------------------------------------------------------------------------------------------------------------------------------------------------------------------------------------------------------------------------------------+\n",
      "|language                                                                                                                                                                                                                                                                                                                                                                                                                                              |\n",
      "+------------------------------------------------------------------------------------------------------------------------------------------------------------------------------------------------------------------------------------------------------------------------------------------------------------------------------------------------------------------------------------------------------------------------------------------------------+\n",
      "|[[language, 0, 396, en, [hr -> 8.8132457E-10, fr -> 5.0218325E-8, uk -> 1.048722E-7, pt -> 1.966427E-7, cs -> 3.9181973E-8, el -> 8.857998E-8, it -> 8.322347E-7, bg -> 2.5249047E-8, de -> 3.3974771E-7, ru -> 1.5472986E-8, sv -> 6.042574E-7, tr -> 1.1117493E-8, en -> 0.9999913, sk -> 4.5116842E-8, es -> 4.756644E-6, fi -> 8.54744E-9, ro -> 3.7395527E-9, no -> 8.9385344E-7, sentence -> 0, hu -> 6.6676558E-9, pl -> 7.601722E-7], []]]    |\n",
      "|[[language, 0, 325, en, [hr -> 1.2641242E-9, fr -> 7.89383E-8, uk -> 1.0512882E-7, pt -> 2.1824515E-7, cs -> 6.237736E-8, el -> 1.5953975E-7, it -> 1.0458278E-6, bg -> 4.422095E-8, de -> 3.807392E-7, ru -> 1.8176198E-8, sv -> 9.401717E-7, tr -> 1.5860639E-8, en -> 0.9999863, sk -> 4.357957E-8, es -> 8.304368E-6, fi -> 1.378948E-8, ro -> 6.0666685E-9, no -> 1.1837442E-6, sentence -> 0, hu -> 1.0774794E-8, pl -> 1.1550025E-6], []]]     |\n",
      "|[[language, 0, 382, en, [hr -> 7.792687E-9, fr -> 4.95762E-7, uk -> 3.9228104E-7, pt -> 3.216517E-7, cs -> 7.4589494E-8, el -> 3.4215392E-7, it -> 1.1127823E-5, bg -> 1.4134055E-7, de -> 4.3342862E-7, ru -> 1.5799113E-8, sv -> 4.9887876E-6, tr -> 3.413009E-8, en -> 0.99995625, sk -> 1.2010698E-7, es -> 1.50251335E-5, fi -> 6.509398E-8, ro -> 2.1302E-8, no -> 9.428204E-6, sentence -> 0, hu -> 2.2173403E-8, pl -> 7.384755E-7], []]]     |\n",
      "|[[language, 0, 526, en, [hr -> 5.1580544E-9, fr -> 1.5984654E-7, uk -> 4.1051183E-7, pt -> 2.6634294E-7, cs -> 7.207046E-8, el -> 3.992493E-7, it -> 6.9335347E-6, bg -> 1.0674164E-7, de -> 5.1453054E-7, ru -> 1.9400945E-8, sv -> 2.7112676E-6, tr -> 1.5662653E-8, en -> 0.9999695, sk -> 1.3458681E-7, es -> 1.0841513E-5, fi -> 1.9549304E-8, ro -> 1.4072458E-8, no -> 7.004642E-6, sentence -> 0, hu -> 1.1391856E-8, pl -> 9.805552E-7], []]]|\n",
      "|[[language, 0, 119, en, [hr -> 7.725529E-9, fr -> 1.6003358E-7, uk -> 4.6832332E-7, pt -> 1.7336427E-7, cs -> 2.746001E-7, el -> 1.5186329E-6, it -> 1.8334096E-6, bg -> 6.093568E-8, de -> 6.692198E-7, ru -> 6.945706E-8, sv -> 9.9249855E-6, tr -> 9.4475205E-8, en -> 0.99995255, sk -> 1.16654185E-7, es -> 2.4466266E-5, fi -> 9.0962736E-8, ro -> 3.8412157E-8, no -> 2.0149243E-6, sentence -> 0, hu -> 1.5306806E-8, pl -> 5.321021E-6], []]]|\n",
      "+------------------------------------------------------------------------------------------------------------------------------------------------------------------------------------------------------------------------------------------------------------------------------------------------------------------------------------------------------------------------------------------------------------------------------------------------------+\n",
      "only showing top 5 rows\n",
      "\n"
     ]
    }
   ],
   "source": [
    "results.select('language').show(5, truncate=False)"
   ]
  }
 ],
 "metadata": {
  "colab": {
   "name": "FreshStartSparkSentiment.ipynb",
   "provenance": []
  },
  "kernelspec": {
   "display_name": "Python 3",
   "language": "python",
   "name": "python3"
  },
  "language_info": {
   "codemirror_mode": {
    "name": "ipython",
    "version": 3
   },
   "file_extension": ".py",
   "mimetype": "text/x-python",
   "name": "python",
   "nbconvert_exporter": "python",
   "pygments_lexer": "ipython3",
   "version": "3.7.4"
  }
 },
 "nbformat": 4,
 "nbformat_minor": 1
}
