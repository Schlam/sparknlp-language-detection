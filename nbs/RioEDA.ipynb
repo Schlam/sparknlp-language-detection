{
 "cells": [
  {
   "cell_type": "markdown",
   "metadata": {
    "id": "Xn66kXIwT3gc"
   },
   "source": [
    "# Analysis of Airbnb listing in Rio de Janiero"
   ]
  },
  {
   "cell_type": "code",
   "execution_count": 2,
   "metadata": {
    "ExecuteTime": {
     "end_time": "2021-01-18T05:05:39.060068Z",
     "start_time": "2021-01-18T05:05:34.374700Z"
    },
    "id": "9-KybduIShV9"
   },
   "outputs": [],
   "source": [
    "import pandas as pd\n",
    "from config import s3_url\n",
    "\n",
    "# Load Rio listings from s3 into dataframe\n",
    "df = pd.read_csv(s3_url + 'listings.csv.gz')"
   ]
  },
  {
   "cell_type": "markdown",
   "metadata": {
    "id": "U7UXJldJShWC"
   },
   "source": [
    "### Most popular individual listings\n",
    "\n",
    "It appears that popularity is distributed somewhat evenly about\n",
    "the neighbourhoods until you get past the top five.\n",
    "\n",
    "What's even more interesting is that there's a sole private room\n",
    "listing amoung entirely "
   ]
  },
  {
   "cell_type": "code",
   "execution_count": 3,
   "metadata": {
    "ExecuteTime": {
     "end_time": "2021-01-18T05:05:39.111256Z",
     "start_time": "2021-01-18T05:05:39.063370Z"
    },
    "colab": {
     "base_uri": "https://localhost:8080/",
     "height": 359
    },
    "id": "GgHg4zPuShWD",
    "outputId": "1b417a37-22fc-4ff4-92f6-6797b5158b48",
    "scrolled": false
   },
   "outputs": [
    {
     "data": {
      "text/html": [
       "<div>\n",
       "<style scoped>\n",
       "    .dataframe tbody tr th:only-of-type {\n",
       "        vertical-align: middle;\n",
       "    }\n",
       "\n",
       "    .dataframe tbody tr th {\n",
       "        vertical-align: top;\n",
       "    }\n",
       "\n",
       "    .dataframe thead th {\n",
       "        text-align: right;\n",
       "    }\n",
       "</style>\n",
       "<table border=\"1\" class=\"dataframe\">\n",
       "  <thead>\n",
       "    <tr style=\"text-align: right;\">\n",
       "      <th></th>\n",
       "      <th>Name</th>\n",
       "      <th>Neighborhood</th>\n",
       "      <th>Number Of Reviews</th>\n",
       "    </tr>\n",
       "  </thead>\n",
       "  <tbody>\n",
       "    <tr>\n",
       "      <th>140</th>\n",
       "      <td>2 bedroom apart with view to the lagoon and ga...</td>\n",
       "      <td>Lagoa</td>\n",
       "      <td>431</td>\n",
       "    </tr>\n",
       "    <tr>\n",
       "      <th>301</th>\n",
       "      <td>CASABLANCA 1 STUNNING BEACHFRONT</td>\n",
       "      <td>Vidigal</td>\n",
       "      <td>424</td>\n",
       "    </tr>\n",
       "    <tr>\n",
       "      <th>5715</th>\n",
       "      <td>COPACABANA,PRAIA/METRO,MELHOR CUSTO BENEFÍCIO</td>\n",
       "      <td>Copacabana</td>\n",
       "      <td>419</td>\n",
       "    </tr>\n",
       "    <tr>\n",
       "      <th>744</th>\n",
       "      <td>Praia de Copacabana</td>\n",
       "      <td>Copacabana</td>\n",
       "      <td>406</td>\n",
       "    </tr>\n",
       "    <tr>\n",
       "      <th>108</th>\n",
       "      <td>❤️ MODERN LOFT IN BEST SPOT OF IPANEMA 1 - 120...</td>\n",
       "      <td>Ipanema</td>\n",
       "      <td>388</td>\n",
       "    </tr>\n",
       "    <tr>\n",
       "      <th>393</th>\n",
       "      <td>Apart hotel - COPACABANA beach</td>\n",
       "      <td>Copacabana</td>\n",
       "      <td>375</td>\n",
       "    </tr>\n",
       "    <tr>\n",
       "      <th>17</th>\n",
       "      <td>Apart-hotel in Ipanema with service and garage</td>\n",
       "      <td>Ipanema</td>\n",
       "      <td>370</td>\n",
       "    </tr>\n",
       "    <tr>\n",
       "      <th>1359</th>\n",
       "      <td>Copacabana Beach - Av Atlântica (Sea View - 11th)</td>\n",
       "      <td>Copacabana</td>\n",
       "      <td>362</td>\n",
       "    </tr>\n",
       "    <tr>\n",
       "      <th>3</th>\n",
       "      <td>COPACABANA SEA BREEZE  -  RIO - 20 X Superhost</td>\n",
       "      <td>Copacabana</td>\n",
       "      <td>346</td>\n",
       "    </tr>\n",
       "    <tr>\n",
       "      <th>1986</th>\n",
       "      <td>Your home in Copacabana/RJ/Brazil</td>\n",
       "      <td>Copacabana</td>\n",
       "      <td>337</td>\n",
       "    </tr>\n",
       "  </tbody>\n",
       "</table>\n",
       "</div>"
      ],
      "text/plain": [
       "                                                   Name  ... Number Of Reviews\n",
       "140   2 bedroom apart with view to the lagoon and ga...  ...               431\n",
       "301                    CASABLANCA 1 STUNNING BEACHFRONT  ...               424\n",
       "5715      COPACABANA,PRAIA/METRO,MELHOR CUSTO BENEFÍCIO  ...               419\n",
       "744                                 Praia de Copacabana  ...               406\n",
       "108   ❤️ MODERN LOFT IN BEST SPOT OF IPANEMA 1 - 120...  ...               388\n",
       "393                      Apart hotel - COPACABANA beach  ...               375\n",
       "17       Apart-hotel in Ipanema with service and garage  ...               370\n",
       "1359  Copacabana Beach - Av Atlântica (Sea View - 11th)  ...               362\n",
       "3        COPACABANA SEA BREEZE  -  RIO - 20 X Superhost  ...               346\n",
       "1986                  Your home in Copacabana/RJ/Brazil  ...               337\n",
       "\n",
       "[10 rows x 3 columns]"
      ]
     },
     "execution_count": 3,
     "metadata": {
      "tags": []
     },
     "output_type": "execute_result"
    }
   ],
   "source": [
    "# A few features to analyze\n",
    "columns = ['name','neighbourhood_cleansed','number_of_reviews']\n",
    "\n",
    "# Sort listings by highest review count\n",
    "most_pop = df[columns].sort_values('number_of_reviews', ascending=False) \\\n",
    "    .rename(columns={col:' '.join(col.split('_')).title() for col in columns}) \\\n",
    "    .rename(columns={'Neighbourhood Cleansed':'Neighborhood'}) \\\n",
    "    .iloc[:20,:]\n",
    "    \n",
    "most_pop.head(10)"
   ]
  },
  {
   "cell_type": "markdown",
   "metadata": {
    "id": "RKGHZX5Ls9nb"
   },
   "source": [
    "##### The complete names can be seen in the bar chart below "
   ]
  },
  {
   "cell_type": "code",
   "execution_count": 4,
   "metadata": {
    "ExecuteTime": {
     "end_time": "2021-01-18T05:05:40.263626Z",
     "start_time": "2021-01-18T05:05:39.115910Z"
    },
    "colab": {
     "base_uri": "https://localhost:8080/",
     "height": 542
    },
    "id": "U6hTR4lIsMD6",
    "outputId": "1410ce53-9bf6-4e9b-9d7c-c7d60cafab75"
   },
   "outputs": [
    {
     "data": {
      "text/html": [
       "<html>\n",
       "<head><meta charset=\"utf-8\" /></head>\n",
       "<body>\n",
       "    <div>\n",
       "            <script src=\"https://cdnjs.cloudflare.com/ajax/libs/mathjax/2.7.5/MathJax.js?config=TeX-AMS-MML_SVG\"></script><script type=\"text/javascript\">if (window.MathJax) {MathJax.Hub.Config({SVG: {font: \"STIX-Web\"}});}</script>\n",
       "                <script type=\"text/javascript\">window.PlotlyConfig = {MathJaxConfig: 'local'};</script>\n",
       "        <script src=\"https://cdn.plot.ly/plotly-latest.min.js\"></script>    \n",
       "            <div id=\"80199df9-4fa5-45d4-9ec8-4d102d00d999\" class=\"plotly-graph-div\" style=\"height:525px; width:100%;\"></div>\n",
       "            <script type=\"text/javascript\">\n",
       "                \n",
       "                    window.PLOTLYENV=window.PLOTLYENV || {};\n",
       "                    \n",
       "                if (document.getElementById(\"80199df9-4fa5-45d4-9ec8-4d102d00d999\")) {\n",
       "                    Plotly.newPlot(\n",
       "                        '80199df9-4fa5-45d4-9ec8-4d102d00d999',\n",
       "                        [{\"alignmentgroup\": \"True\", \"hoverlabel\": {\"namelength\": 0}, \"hovertemplate\": \"Neighborhood=Lagoa<br>Name=%{x}<br>Number Of Reviews=%{y}\", \"legendgroup\": \"Neighborhood=Lagoa\", \"marker\": {\"color\": \"#636efa\"}, \"name\": \"Neighborhood=Lagoa\", \"offsetgroup\": \"Neighborhood=Lagoa\", \"orientation\": \"v\", \"showlegend\": true, \"textposition\": \"auto\", \"type\": \"bar\", \"x\": [\"2 bedroom apart with view to the lagoon and garage\"], \"xaxis\": \"x\", \"y\": [431], \"yaxis\": \"y\"}, {\"alignmentgroup\": \"True\", \"hoverlabel\": {\"namelength\": 0}, \"hovertemplate\": \"Neighborhood=Vidigal<br>Name=%{x}<br>Number Of Reviews=%{y}\", \"legendgroup\": \"Neighborhood=Vidigal\", \"marker\": {\"color\": \"#EF553B\"}, \"name\": \"Neighborhood=Vidigal\", \"offsetgroup\": \"Neighborhood=Vidigal\", \"orientation\": \"v\", \"showlegend\": true, \"textposition\": \"auto\", \"type\": \"bar\", \"x\": [\"CASABLANCA 1 STUNNING BEACHFRONT\"], \"xaxis\": \"x\", \"y\": [424], \"yaxis\": \"y\"}, {\"alignmentgroup\": \"True\", \"hoverlabel\": {\"namelength\": 0}, \"hovertemplate\": \"Neighborhood=Copacabana<br>Name=%{x}<br>Number Of Reviews=%{y}\", \"legendgroup\": \"Neighborhood=Copacabana\", \"marker\": {\"color\": \"#00cc96\"}, \"name\": \"Neighborhood=Copacabana\", \"offsetgroup\": \"Neighborhood=Copacabana\", \"orientation\": \"v\", \"showlegend\": true, \"textposition\": \"auto\", \"type\": \"bar\", \"x\": [\"COPACABANA,PRAIA/METRO,MELHOR CUSTO BENEF\\u00cdCIO\", \"Praia de Copacabana\", \"Apart hotel - COPACABANA beach\", \"Copacabana Beach - Av Atl\\u00e2ntica (Sea View - 11th)\", \"COPACABANA SEA BREEZE  -  RIO - 20 X Superhost\", \"Your home in Copacabana/RJ/Brazil\", \"Apart in the heart of Copacabana\", \"Copacabana beach airbnb plus, Vibrant Apartment\", \"\\u2764\\ufe0f1 Minute to the Beach, 2 Min to Subway\\u2764\\ufe0f\", \"SUPER COZY FLAT ONE BLOCK FROM The BEACH\", \"Apto Copacabana view to rainforest\", \"Amazing View Apt in Copacabana\"], \"xaxis\": \"x\", \"y\": [419, 406, 375, 362, 346, 337, 312, 307, 307, 305, 300, 296], \"yaxis\": \"y\"}, {\"alignmentgroup\": \"True\", \"hoverlabel\": {\"namelength\": 0}, \"hovertemplate\": \"Neighborhood=Ipanema<br>Name=%{x}<br>Number Of Reviews=%{y}\", \"legendgroup\": \"Neighborhood=Ipanema\", \"marker\": {\"color\": \"#ab63fa\"}, \"name\": \"Neighborhood=Ipanema\", \"offsetgroup\": \"Neighborhood=Ipanema\", \"orientation\": \"v\", \"showlegend\": true, \"textposition\": \"auto\", \"type\": \"bar\", \"x\": [\"\\u2764\\ufe0f MODERN LOFT IN BEST SPOT OF IPANEMA 1 - 120MB\\u2764\\ufe0f\", \"Apart-hotel in Ipanema with service and garage\", \"\\u2764\\ufe0f NANO-APT IN BEST SPOT OF IPANEMA \\u2764\\ufe0f\", \"Confortable apartment in  Ipanema\"], \"xaxis\": \"x\", \"y\": [388, 370, 320, 309], \"yaxis\": \"y\"}, {\"alignmentgroup\": \"True\", \"hoverlabel\": {\"namelength\": 0}, \"hovertemplate\": \"Neighborhood=Santa Teresa<br>Name=%{x}<br>Number Of Reviews=%{y}\", \"legendgroup\": \"Neighborhood=Santa Teresa\", \"marker\": {\"color\": \"#FFA15A\"}, \"name\": \"Neighborhood=Santa Teresa\", \"offsetgroup\": \"Neighborhood=Santa Teresa\", \"orientation\": \"v\", \"showlegend\": true, \"textposition\": \"auto\", \"type\": \"bar\", \"x\": [\"Varand\\u00e3o Atelier Lounge Sta. Teresa\"], \"xaxis\": \"x\", \"y\": [334], \"yaxis\": \"y\"}, {\"alignmentgroup\": \"True\", \"hoverlabel\": {\"namelength\": 0}, \"hovertemplate\": \"Neighborhood=Laranjeiras<br>Name=%{x}<br>Number Of Reviews=%{y}\", \"legendgroup\": \"Neighborhood=Laranjeiras\", \"marker\": {\"color\": \"#19d3f3\"}, \"name\": \"Neighborhood=Laranjeiras\", \"offsetgroup\": \"Neighborhood=Laranjeiras\", \"orientation\": \"v\", \"showlegend\": true, \"textposition\": \"auto\", \"type\": \"bar\", \"x\": [\"\\u2764\\ufe0fBlue Room\\u2764\\ufe0fChrist, Beach, Lapa & Santa Teresa\"], \"xaxis\": \"x\", \"y\": [318], \"yaxis\": \"y\"}],\n",
       "                        {\"barmode\": \"relative\", \"legend\": {\"tracegroupgap\": 0}, \"margin\": {\"t\": 60}, \"template\": {\"data\": {\"bar\": [{\"error_x\": {\"color\": \"#2a3f5f\"}, \"error_y\": {\"color\": \"#2a3f5f\"}, \"marker\": {\"line\": {\"color\": \"#E5ECF6\", \"width\": 0.5}}, \"type\": \"bar\"}], \"barpolar\": [{\"marker\": {\"line\": {\"color\": \"#E5ECF6\", \"width\": 0.5}}, \"type\": \"barpolar\"}], \"carpet\": [{\"aaxis\": {\"endlinecolor\": \"#2a3f5f\", \"gridcolor\": \"white\", \"linecolor\": \"white\", \"minorgridcolor\": \"white\", \"startlinecolor\": \"#2a3f5f\"}, \"baxis\": {\"endlinecolor\": \"#2a3f5f\", \"gridcolor\": \"white\", \"linecolor\": \"white\", \"minorgridcolor\": \"white\", \"startlinecolor\": \"#2a3f5f\"}, \"type\": \"carpet\"}], \"choropleth\": [{\"colorbar\": {\"outlinewidth\": 0, \"ticks\": \"\"}, \"type\": \"choropleth\"}], \"contour\": [{\"colorbar\": {\"outlinewidth\": 0, \"ticks\": \"\"}, \"colorscale\": [[0.0, \"#0d0887\"], [0.1111111111111111, \"#46039f\"], [0.2222222222222222, \"#7201a8\"], [0.3333333333333333, \"#9c179e\"], [0.4444444444444444, \"#bd3786\"], [0.5555555555555556, \"#d8576b\"], [0.6666666666666666, \"#ed7953\"], [0.7777777777777778, \"#fb9f3a\"], [0.8888888888888888, \"#fdca26\"], [1.0, \"#f0f921\"]], \"type\": \"contour\"}], \"contourcarpet\": [{\"colorbar\": {\"outlinewidth\": 0, \"ticks\": \"\"}, \"type\": \"contourcarpet\"}], \"heatmap\": [{\"colorbar\": {\"outlinewidth\": 0, \"ticks\": \"\"}, \"colorscale\": [[0.0, \"#0d0887\"], [0.1111111111111111, \"#46039f\"], [0.2222222222222222, \"#7201a8\"], [0.3333333333333333, \"#9c179e\"], [0.4444444444444444, \"#bd3786\"], [0.5555555555555556, \"#d8576b\"], [0.6666666666666666, \"#ed7953\"], [0.7777777777777778, \"#fb9f3a\"], [0.8888888888888888, \"#fdca26\"], [1.0, \"#f0f921\"]], \"type\": \"heatmap\"}], \"heatmapgl\": [{\"colorbar\": {\"outlinewidth\": 0, \"ticks\": \"\"}, \"colorscale\": [[0.0, \"#0d0887\"], [0.1111111111111111, \"#46039f\"], [0.2222222222222222, \"#7201a8\"], [0.3333333333333333, \"#9c179e\"], [0.4444444444444444, \"#bd3786\"], [0.5555555555555556, \"#d8576b\"], [0.6666666666666666, \"#ed7953\"], [0.7777777777777778, \"#fb9f3a\"], [0.8888888888888888, \"#fdca26\"], [1.0, \"#f0f921\"]], \"type\": \"heatmapgl\"}], \"histogram\": [{\"marker\": {\"colorbar\": {\"outlinewidth\": 0, \"ticks\": \"\"}}, \"type\": \"histogram\"}], \"histogram2d\": [{\"colorbar\": {\"outlinewidth\": 0, \"ticks\": \"\"}, \"colorscale\": [[0.0, \"#0d0887\"], [0.1111111111111111, \"#46039f\"], [0.2222222222222222, \"#7201a8\"], [0.3333333333333333, \"#9c179e\"], [0.4444444444444444, \"#bd3786\"], [0.5555555555555556, \"#d8576b\"], [0.6666666666666666, \"#ed7953\"], [0.7777777777777778, \"#fb9f3a\"], [0.8888888888888888, \"#fdca26\"], [1.0, \"#f0f921\"]], \"type\": \"histogram2d\"}], \"histogram2dcontour\": [{\"colorbar\": {\"outlinewidth\": 0, \"ticks\": \"\"}, \"colorscale\": [[0.0, \"#0d0887\"], [0.1111111111111111, \"#46039f\"], [0.2222222222222222, \"#7201a8\"], [0.3333333333333333, \"#9c179e\"], [0.4444444444444444, \"#bd3786\"], [0.5555555555555556, \"#d8576b\"], [0.6666666666666666, \"#ed7953\"], [0.7777777777777778, \"#fb9f3a\"], [0.8888888888888888, \"#fdca26\"], [1.0, \"#f0f921\"]], \"type\": \"histogram2dcontour\"}], \"mesh3d\": [{\"colorbar\": {\"outlinewidth\": 0, \"ticks\": \"\"}, \"type\": \"mesh3d\"}], \"parcoords\": [{\"line\": {\"colorbar\": {\"outlinewidth\": 0, \"ticks\": \"\"}}, \"type\": \"parcoords\"}], \"pie\": [{\"automargin\": true, \"type\": \"pie\"}], \"scatter\": [{\"marker\": {\"colorbar\": {\"outlinewidth\": 0, \"ticks\": \"\"}}, \"type\": \"scatter\"}], \"scatter3d\": [{\"line\": {\"colorbar\": {\"outlinewidth\": 0, \"ticks\": \"\"}}, \"marker\": {\"colorbar\": {\"outlinewidth\": 0, \"ticks\": \"\"}}, \"type\": \"scatter3d\"}], \"scattercarpet\": [{\"marker\": {\"colorbar\": {\"outlinewidth\": 0, \"ticks\": \"\"}}, \"type\": \"scattercarpet\"}], \"scattergeo\": [{\"marker\": {\"colorbar\": {\"outlinewidth\": 0, \"ticks\": \"\"}}, \"type\": \"scattergeo\"}], \"scattergl\": [{\"marker\": {\"colorbar\": {\"outlinewidth\": 0, \"ticks\": \"\"}}, \"type\": \"scattergl\"}], \"scattermapbox\": [{\"marker\": {\"colorbar\": {\"outlinewidth\": 0, \"ticks\": \"\"}}, \"type\": \"scattermapbox\"}], \"scatterpolar\": [{\"marker\": {\"colorbar\": {\"outlinewidth\": 0, \"ticks\": \"\"}}, \"type\": \"scatterpolar\"}], \"scatterpolargl\": [{\"marker\": {\"colorbar\": {\"outlinewidth\": 0, \"ticks\": \"\"}}, \"type\": \"scatterpolargl\"}], \"scatterternary\": [{\"marker\": {\"colorbar\": {\"outlinewidth\": 0, \"ticks\": \"\"}}, \"type\": \"scatterternary\"}], \"surface\": [{\"colorbar\": {\"outlinewidth\": 0, \"ticks\": \"\"}, \"colorscale\": [[0.0, \"#0d0887\"], [0.1111111111111111, \"#46039f\"], [0.2222222222222222, \"#7201a8\"], [0.3333333333333333, \"#9c179e\"], [0.4444444444444444, \"#bd3786\"], [0.5555555555555556, \"#d8576b\"], [0.6666666666666666, \"#ed7953\"], [0.7777777777777778, \"#fb9f3a\"], [0.8888888888888888, \"#fdca26\"], [1.0, \"#f0f921\"]], \"type\": \"surface\"}], \"table\": [{\"cells\": {\"fill\": {\"color\": \"#EBF0F8\"}, \"line\": {\"color\": \"white\"}}, \"header\": {\"fill\": {\"color\": \"#C8D4E3\"}, \"line\": {\"color\": \"white\"}}, \"type\": \"table\"}]}, \"layout\": {\"annotationdefaults\": {\"arrowcolor\": \"#2a3f5f\", \"arrowhead\": 0, \"arrowwidth\": 1}, \"coloraxis\": {\"colorbar\": {\"outlinewidth\": 0, \"ticks\": \"\"}}, \"colorscale\": {\"diverging\": [[0, \"#8e0152\"], [0.1, \"#c51b7d\"], [0.2, \"#de77ae\"], [0.3, \"#f1b6da\"], [0.4, \"#fde0ef\"], [0.5, \"#f7f7f7\"], [0.6, \"#e6f5d0\"], [0.7, \"#b8e186\"], [0.8, \"#7fbc41\"], [0.9, \"#4d9221\"], [1, \"#276419\"]], \"sequential\": [[0.0, \"#0d0887\"], [0.1111111111111111, \"#46039f\"], [0.2222222222222222, \"#7201a8\"], [0.3333333333333333, \"#9c179e\"], [0.4444444444444444, \"#bd3786\"], [0.5555555555555556, \"#d8576b\"], [0.6666666666666666, \"#ed7953\"], [0.7777777777777778, \"#fb9f3a\"], [0.8888888888888888, \"#fdca26\"], [1.0, \"#f0f921\"]], \"sequentialminus\": [[0.0, \"#0d0887\"], [0.1111111111111111, \"#46039f\"], [0.2222222222222222, \"#7201a8\"], [0.3333333333333333, \"#9c179e\"], [0.4444444444444444, \"#bd3786\"], [0.5555555555555556, \"#d8576b\"], [0.6666666666666666, \"#ed7953\"], [0.7777777777777778, \"#fb9f3a\"], [0.8888888888888888, \"#fdca26\"], [1.0, \"#f0f921\"]]}, \"colorway\": [\"#636efa\", \"#EF553B\", \"#00cc96\", \"#ab63fa\", \"#FFA15A\", \"#19d3f3\", \"#FF6692\", \"#B6E880\", \"#FF97FF\", \"#FECB52\"], \"font\": {\"color\": \"#2a3f5f\"}, \"geo\": {\"bgcolor\": \"white\", \"lakecolor\": \"white\", \"landcolor\": \"#E5ECF6\", \"showlakes\": true, \"showland\": true, \"subunitcolor\": \"white\"}, \"hoverlabel\": {\"align\": \"left\"}, \"hovermode\": \"closest\", \"mapbox\": {\"style\": \"light\"}, \"paper_bgcolor\": \"white\", \"plot_bgcolor\": \"#E5ECF6\", \"polar\": {\"angularaxis\": {\"gridcolor\": \"white\", \"linecolor\": \"white\", \"ticks\": \"\"}, \"bgcolor\": \"#E5ECF6\", \"radialaxis\": {\"gridcolor\": \"white\", \"linecolor\": \"white\", \"ticks\": \"\"}}, \"scene\": {\"xaxis\": {\"backgroundcolor\": \"#E5ECF6\", \"gridcolor\": \"white\", \"gridwidth\": 2, \"linecolor\": \"white\", \"showbackground\": true, \"ticks\": \"\", \"zerolinecolor\": \"white\"}, \"yaxis\": {\"backgroundcolor\": \"#E5ECF6\", \"gridcolor\": \"white\", \"gridwidth\": 2, \"linecolor\": \"white\", \"showbackground\": true, \"ticks\": \"\", \"zerolinecolor\": \"white\"}, \"zaxis\": {\"backgroundcolor\": \"#E5ECF6\", \"gridcolor\": \"white\", \"gridwidth\": 2, \"linecolor\": \"white\", \"showbackground\": true, \"ticks\": \"\", \"zerolinecolor\": \"white\"}}, \"shapedefaults\": {\"line\": {\"color\": \"#2a3f5f\"}}, \"ternary\": {\"aaxis\": {\"gridcolor\": \"white\", \"linecolor\": \"white\", \"ticks\": \"\"}, \"baxis\": {\"gridcolor\": \"white\", \"linecolor\": \"white\", \"ticks\": \"\"}, \"bgcolor\": \"#E5ECF6\", \"caxis\": {\"gridcolor\": \"white\", \"linecolor\": \"white\", \"ticks\": \"\"}}, \"title\": {\"x\": 0.05}, \"xaxis\": {\"automargin\": true, \"gridcolor\": \"white\", \"linecolor\": \"white\", \"ticks\": \"\", \"title\": {\"standoff\": 15}, \"zerolinecolor\": \"white\", \"zerolinewidth\": 2}, \"yaxis\": {\"automargin\": true, \"gridcolor\": \"white\", \"linecolor\": \"white\", \"ticks\": \"\", \"title\": {\"standoff\": 15}, \"zerolinecolor\": \"white\", \"zerolinewidth\": 2}}}, \"xaxis\": {\"anchor\": \"y\", \"domain\": [0.0, 1.0], \"tickangle\": 35, \"title\": {\"text\": \"Name\"}}, \"yaxis\": {\"anchor\": \"x\", \"domain\": [0.0, 1.0], \"title\": {\"text\": \"Number Of Reviews\"}}},\n",
       "                        {\"responsive\": true}\n",
       "                    ).then(function(){\n",
       "                            \n",
       "var gd = document.getElementById('80199df9-4fa5-45d4-9ec8-4d102d00d999');\n",
       "var x = new MutationObserver(function (mutations, observer) {{\n",
       "        var display = window.getComputedStyle(gd).display;\n",
       "        if (!display || display === 'none') {{\n",
       "            console.log([gd, 'removed!']);\n",
       "            Plotly.purge(gd);\n",
       "            observer.disconnect();\n",
       "        }}\n",
       "}});\n",
       "\n",
       "// Listen for the removal of the full notebook cells\n",
       "var notebookContainer = gd.closest('#notebook-container');\n",
       "if (notebookContainer) {{\n",
       "    x.observe(notebookContainer, {childList: true});\n",
       "}}\n",
       "\n",
       "// Listen for the clearing of the current output cell\n",
       "var outputEl = gd.closest('.output');\n",
       "if (outputEl) {{\n",
       "    x.observe(outputEl, {childList: true});\n",
       "}}\n",
       "\n",
       "                        })\n",
       "                };\n",
       "                \n",
       "            </script>\n",
       "        </div>\n",
       "</body>\n",
       "</html>"
      ]
     },
     "metadata": {
      "tags": []
     },
     "output_type": "display_data"
    }
   ],
   "source": [
    "import matplotlib.pyplot as plt\n",
    "import plotly.express as px\n",
    "\n",
    "# Bar chart of most popular listings and their review count\n",
    "fig = px.bar(most_pop, x='Name', y='Number Of Reviews', color='Neighborhood')\n",
    "fig.update_layout(xaxis_tickangle=35)\n",
    "fig.show()"
   ]
  },
  {
   "cell_type": "markdown",
   "metadata": {},
   "source": [
    "![barplot](../images/bar.png)"
   ]
  },
  {
   "cell_type": "markdown",
   "metadata": {
    "id": "crYM1crGtKrK"
   },
   "source": [
    "Notice that 4/10 of the most popular listings have names with the\n",
    "same eye-grabbing aestetic choices you'll find on a YouTube trending page\n",
    "\n",
    "All caps, emojis, etc. It may seem trivial but here is yet more evidence\n",
    "it can make a difference.\n"
   ]
  },
  {
   "cell_type": "markdown",
   "metadata": {
    "id": "JflfdlGcbA_m"
   },
   "source": [
    "The five most frequented listings are from four different districs\n",
    "\n",
    "Also notice that some Copacabana listings are in Portugese"
   ]
  },
  {
   "cell_type": "markdown",
   "metadata": {
    "heading_collapsed": true,
    "id": "R0p7hAyQjeRn"
   },
   "source": [
    "### Availability by neighborhood\n",
    "\n",
    "First lets see what the availability is in the most popular areas"
   ]
  },
  {
   "cell_type": "code",
   "execution_count": 5,
   "metadata": {
    "ExecuteTime": {
     "end_time": "2021-01-18T05:05:40.498754Z",
     "start_time": "2021-01-18T05:05:40.266521Z"
    },
    "colab": {
     "base_uri": "https://localhost:8080/",
     "height": 235
    },
    "hidden": true,
    "id": "c96z0IzoexIG",
    "outputId": "5c74f6ae-5edd-46c4-f4f4-d0694ae0995f"
   },
   "outputs": [
    {
     "data": {
      "text/html": [
       "<div>\n",
       "<style scoped>\n",
       "    .dataframe tbody tr th:only-of-type {\n",
       "        vertical-align: middle;\n",
       "    }\n",
       "\n",
       "    .dataframe tbody tr th {\n",
       "        vertical-align: top;\n",
       "    }\n",
       "\n",
       "    .dataframe thead th {\n",
       "        text-align: right;\n",
       "    }\n",
       "</style>\n",
       "<table border=\"1\" class=\"dataframe\">\n",
       "  <thead>\n",
       "    <tr style=\"text-align: right;\">\n",
       "      <th></th>\n",
       "      <th>Avg availability: 30 Day</th>\n",
       "      <th>Avg availability: 60 Day</th>\n",
       "      <th>Avg availability: 90 Day</th>\n",
       "      <th>Avg availability: 365 Day</th>\n",
       "    </tr>\n",
       "    <tr>\n",
       "      <th>Neighborhood</th>\n",
       "      <th></th>\n",
       "      <th></th>\n",
       "      <th></th>\n",
       "      <th></th>\n",
       "    </tr>\n",
       "  </thead>\n",
       "  <tbody>\n",
       "    <tr>\n",
       "      <th>Copacabana</th>\n",
       "      <td>15</td>\n",
       "      <td>35</td>\n",
       "      <td>56</td>\n",
       "      <td>204</td>\n",
       "    </tr>\n",
       "    <tr>\n",
       "      <th>Barra da Tijuca</th>\n",
       "      <td>16</td>\n",
       "      <td>38</td>\n",
       "      <td>62</td>\n",
       "      <td>223</td>\n",
       "    </tr>\n",
       "    <tr>\n",
       "      <th>Ipanema</th>\n",
       "      <td>15</td>\n",
       "      <td>34</td>\n",
       "      <td>55</td>\n",
       "      <td>200</td>\n",
       "    </tr>\n",
       "    <tr>\n",
       "      <th>Jacarepaguá</th>\n",
       "      <td>18</td>\n",
       "      <td>41</td>\n",
       "      <td>65</td>\n",
       "      <td>228</td>\n",
       "    </tr>\n",
       "    <tr>\n",
       "      <th>Botafogo</th>\n",
       "      <td>16</td>\n",
       "      <td>37</td>\n",
       "      <td>60</td>\n",
       "      <td>215</td>\n",
       "    </tr>\n",
       "  </tbody>\n",
       "</table>\n",
       "</div>"
      ],
      "text/plain": [
       "                 Avg availability: 30 Day  ...  Avg availability: 365 Day\n",
       "Neighborhood                               ...                           \n",
       "Copacabana                             15  ...                        204\n",
       "Barra da Tijuca                        16  ...                        223\n",
       "Ipanema                                15  ...                        200\n",
       "Jacarepaguá                            18  ...                        228\n",
       "Botafogo                               16  ...                        215\n",
       "\n",
       "[5 rows x 4 columns]"
      ]
     },
     "execution_count": 5,
     "metadata": {
      "tags": []
     },
     "output_type": "execute_result"
    }
   ],
   "source": [
    "# Take the integer of the average\n",
    "int_average = lambda x:int(x.mean())\n",
    "\n",
    "# Columns and their aggregation methods\n",
    "aggregate = {'id':'count',\n",
    "             'availability_30':int_average,\n",
    "             'availability_60':int_average,\n",
    "             'availability_90':int_average,\n",
    "             'availability_365':int_average,}\n",
    "\n",
    "avail_df = df\\\n",
    "    .rename(columns={'neighbourhood_cleansed':'Neighborhood'}) \\\n",
    "    .groupby('Neighborhood') \\\n",
    "    .agg(aggregate).sort_values('id', ascending=False) \\\n",
    "    .drop(columns='id').rename(columns={\n",
    "        col:\"Avg \" + ': '.join(col.split('_')) + \" Day\"\n",
    "        for col in aggregate if 'avail' in col})\n",
    "    \n",
    "# Top 5\n",
    "avail_df.head()"
   ]
  },
  {
   "cell_type": "markdown",
   "metadata": {
    "hidden": true,
    "id": "u5x4jtLljprs"
   },
   "source": [
    "**Compare** to availability in least popular neighbourhoods"
   ]
  },
  {
   "cell_type": "code",
   "execution_count": 6,
   "metadata": {
    "ExecuteTime": {
     "end_time": "2021-01-18T05:05:40.521003Z",
     "start_time": "2021-01-18T05:05:40.505137Z"
    },
    "colab": {
     "base_uri": "https://localhost:8080/",
     "height": 235
    },
    "hidden": true,
    "id": "mH0OamyXjYSU",
    "outputId": "5c9731b4-799f-46ec-affe-54fb5bab9f73"
   },
   "outputs": [
    {
     "data": {
      "text/html": [
       "<div>\n",
       "<style scoped>\n",
       "    .dataframe tbody tr th:only-of-type {\n",
       "        vertical-align: middle;\n",
       "    }\n",
       "\n",
       "    .dataframe tbody tr th {\n",
       "        vertical-align: top;\n",
       "    }\n",
       "\n",
       "    .dataframe thead th {\n",
       "        text-align: right;\n",
       "    }\n",
       "</style>\n",
       "<table border=\"1\" class=\"dataframe\">\n",
       "  <thead>\n",
       "    <tr style=\"text-align: right;\">\n",
       "      <th></th>\n",
       "      <th>Avg availability: 30 Day</th>\n",
       "      <th>Avg availability: 60 Day</th>\n",
       "      <th>Avg availability: 90 Day</th>\n",
       "      <th>Avg availability: 365 Day</th>\n",
       "    </tr>\n",
       "    <tr>\n",
       "      <th>Neighborhood</th>\n",
       "      <th></th>\n",
       "      <th></th>\n",
       "      <th></th>\n",
       "      <th></th>\n",
       "    </tr>\n",
       "  </thead>\n",
       "  <tbody>\n",
       "    <tr>\n",
       "      <th>Maré</th>\n",
       "      <td>29</td>\n",
       "      <td>59</td>\n",
       "      <td>89</td>\n",
       "      <td>179</td>\n",
       "    </tr>\n",
       "    <tr>\n",
       "      <th>Magalhães Bastos</th>\n",
       "      <td>19</td>\n",
       "      <td>49</td>\n",
       "      <td>79</td>\n",
       "      <td>354</td>\n",
       "    </tr>\n",
       "    <tr>\n",
       "      <th>Acari</th>\n",
       "      <td>12</td>\n",
       "      <td>42</td>\n",
       "      <td>72</td>\n",
       "      <td>347</td>\n",
       "    </tr>\n",
       "    <tr>\n",
       "      <th>Gericinó</th>\n",
       "      <td>30</td>\n",
       "      <td>60</td>\n",
       "      <td>90</td>\n",
       "      <td>365</td>\n",
       "    </tr>\n",
       "    <tr>\n",
       "      <th>Água Santa</th>\n",
       "      <td>30</td>\n",
       "      <td>60</td>\n",
       "      <td>90</td>\n",
       "      <td>365</td>\n",
       "    </tr>\n",
       "  </tbody>\n",
       "</table>\n",
       "</div>"
      ],
      "text/plain": [
       "                  Avg availability: 30 Day  ...  Avg availability: 365 Day\n",
       "Neighborhood                                ...                           \n",
       "Maré                                    29  ...                        179\n",
       "Magalhães Bastos                        19  ...                        354\n",
       "Acari                                   12  ...                        347\n",
       "Gericinó                                30  ...                        365\n",
       "Água Santa                              30  ...                        365\n",
       "\n",
       "[5 rows x 4 columns]"
      ]
     },
     "execution_count": 6,
     "metadata": {
      "tags": []
     },
     "output_type": "execute_result"
    }
   ],
   "source": [
    "avail_df.tail()"
   ]
  },
  {
   "cell_type": "markdown",
   "metadata": {
    "id": "hxsEdLwnqBA3"
   },
   "source": [
    "### Visualize the average availability by neighborhood"
   ]
  },
  {
   "cell_type": "code",
   "execution_count": 7,
   "metadata": {
    "ExecuteTime": {
     "end_time": "2021-01-18T05:05:43.175625Z",
     "start_time": "2021-01-18T05:05:40.524304Z"
    },
    "colab": {
     "base_uri": "https://localhost:8080/",
     "height": 518
    },
    "id": "Gx-90lRxnSw6",
    "outputId": "3f0642f9-7e14-45fa-d86d-54c8adedf340"
   },
   "outputs": [
    {
     "data": {
      "image/png": "[encoded data removed]",
      "text/plain": [
       "<Figure size 800x500 with 2 Axes>"
      ]
     },
     "metadata": {
      "needs_background": "light",
      "tags": []
     },
     "output_type": "display_data"
    }
   ],
   "source": [
    "import seaborn as sns\n",
    "\n",
    "# Average daily availability of 20 most popular neighborhoods\n",
    "f, ax = plt.subplots(figsize=(8,5),dpi=100)\n",
    "plot = sns.heatmap(avail_df.iloc[:20,:], cmap='icefire', annot=True, fmt='d')\n",
    "plot.set_xticklabels(avail_df.columns, rotation=20);\n",
    "ax.set_title(\"Average Availability of 20 most popular neighborhoods in Rio\");"
   ]
  },
  {
   "cell_type": "markdown",
   "metadata": {
    "id": "zHL4mLdnShWD"
   },
   "source": [
    "#### Most popular neighborhoods"
   ]
  },
  {
   "cell_type": "code",
   "execution_count": 8,
   "metadata": {
    "ExecuteTime": {
     "end_time": "2021-01-18T05:05:43.247863Z",
     "start_time": "2021-01-18T05:05:43.178287Z"
    },
    "colab": {
     "base_uri": "https://localhost:8080/",
     "height": 390
    },
    "id": "VFRDHMQRShWE",
    "outputId": "e919e535-3e1d-4ce6-fad4-87d5e579f66a"
   },
   "outputs": [
    {
     "data": {
      "text/html": [
       "<div>\n",
       "<style scoped>\n",
       "    .dataframe tbody tr th:only-of-type {\n",
       "        vertical-align: middle;\n",
       "    }\n",
       "\n",
       "    .dataframe tbody tr th {\n",
       "        vertical-align: top;\n",
       "    }\n",
       "\n",
       "    .dataframe thead th {\n",
       "        text-align: right;\n",
       "    }\n",
       "</style>\n",
       "<table border=\"1\" class=\"dataframe\">\n",
       "  <thead>\n",
       "    <tr style=\"text-align: right;\">\n",
       "      <th></th>\n",
       "      <th>Number of Listings</th>\n",
       "    </tr>\n",
       "    <tr>\n",
       "      <th>Neighborhood</th>\n",
       "      <th></th>\n",
       "    </tr>\n",
       "  </thead>\n",
       "  <tbody>\n",
       "    <tr>\n",
       "      <th>Copacabana</th>\n",
       "      <td>7378</td>\n",
       "    </tr>\n",
       "    <tr>\n",
       "      <th>Barra da Tijuca</th>\n",
       "      <td>2588</td>\n",
       "    </tr>\n",
       "    <tr>\n",
       "      <th>Ipanema</th>\n",
       "      <td>2452</td>\n",
       "    </tr>\n",
       "    <tr>\n",
       "      <th>Jacarepaguá</th>\n",
       "      <td>1323</td>\n",
       "    </tr>\n",
       "    <tr>\n",
       "      <th>Botafogo</th>\n",
       "      <td>1195</td>\n",
       "    </tr>\n",
       "    <tr>\n",
       "      <th>Leblon</th>\n",
       "      <td>1157</td>\n",
       "    </tr>\n",
       "    <tr>\n",
       "      <th>Recreio dos Bandeirantes</th>\n",
       "      <td>1121</td>\n",
       "    </tr>\n",
       "    <tr>\n",
       "      <th>Santa Teresa</th>\n",
       "      <td>892</td>\n",
       "    </tr>\n",
       "    <tr>\n",
       "      <th>Centro</th>\n",
       "      <td>742</td>\n",
       "    </tr>\n",
       "    <tr>\n",
       "      <th>Flamengo</th>\n",
       "      <td>579</td>\n",
       "    </tr>\n",
       "  </tbody>\n",
       "</table>\n",
       "</div>"
      ],
      "text/plain": [
       "                          Number of Listings\n",
       "Neighborhood                                \n",
       "Copacabana                              7378\n",
       "Barra da Tijuca                         2588\n",
       "Ipanema                                 2452\n",
       "Jacarepaguá                             1323\n",
       "Botafogo                                1195\n",
       "Leblon                                  1157\n",
       "Recreio dos Bandeirantes                1121\n",
       "Santa Teresa                             892\n",
       "Centro                                   742\n",
       "Flamengo                                 579"
      ]
     },
     "execution_count": 8,
     "metadata": {
      "tags": []
     },
     "output_type": "execute_result"
    }
   ],
   "source": [
    "# Group by neighbourhood and count the id column\n",
    "most_popular_neighbourhoods = df\\\n",
    "    .rename(columns={'neighbourhood_cleansed':'Neighborhood'}) \\\n",
    "    .groupby('Neighborhood') \\\n",
    "    .agg({'id':'count'}) \\\n",
    "    .sort_values('id',ascending=False) \\\n",
    "    .rename(columns={'id':\"Number of Listings\"})\n",
    "\n",
    "most_popular_neighbourhoods.head(10)"
   ]
  },
  {
   "cell_type": "markdown",
   "metadata": {
    "id": "8Mds5lxOShWE"
   },
   "source": [
    "##### Get further aggregate metrics on the most popular neighbourhoods in rio\n",
    "\n",
    "For each neighborhood, one might want to know\n",
    "- How many listings are there?\n",
    "- What is the average price?\n"
   ]
  },
  {
   "cell_type": "code",
   "execution_count": 9,
   "metadata": {
    "ExecuteTime": {
     "end_time": "2021-01-18T05:05:43.435738Z",
     "start_time": "2021-01-18T05:05:43.254711Z"
    },
    "colab": {
     "base_uri": "https://localhost:8080/",
     "height": 235
    },
    "id": "p1SISUp3ShWF",
    "outputId": "b9dfa426-0bb3-409e-dc2e-48dc21e10fbe"
   },
   "outputs": [
    {
     "data": {
      "text/html": [
       "<div>\n",
       "<style scoped>\n",
       "    .dataframe tbody tr th:only-of-type {\n",
       "        vertical-align: middle;\n",
       "    }\n",
       "\n",
       "    .dataframe tbody tr th {\n",
       "        vertical-align: top;\n",
       "    }\n",
       "\n",
       "    .dataframe thead th {\n",
       "        text-align: right;\n",
       "    }\n",
       "</style>\n",
       "<table border=\"1\" class=\"dataframe\">\n",
       "  <thead>\n",
       "    <tr style=\"text-align: right;\">\n",
       "      <th></th>\n",
       "      <th>Number of listings</th>\n",
       "      <th>Average price</th>\n",
       "      <th>Latitude</th>\n",
       "      <th>Longitude</th>\n",
       "    </tr>\n",
       "    <tr>\n",
       "      <th>neighbourhood_cleansed</th>\n",
       "      <th></th>\n",
       "      <th></th>\n",
       "      <th></th>\n",
       "      <th></th>\n",
       "    </tr>\n",
       "  </thead>\n",
       "  <tbody>\n",
       "    <tr>\n",
       "      <th>Copacabana</th>\n",
       "      <td>7378</td>\n",
       "      <td>959</td>\n",
       "      <td>-22.972767</td>\n",
       "      <td>-43.186333</td>\n",
       "    </tr>\n",
       "    <tr>\n",
       "      <th>Barra da Tijuca</th>\n",
       "      <td>2588</td>\n",
       "      <td>1077</td>\n",
       "      <td>-23.005272</td>\n",
       "      <td>-43.352296</td>\n",
       "    </tr>\n",
       "    <tr>\n",
       "      <th>Ipanema</th>\n",
       "      <td>2452</td>\n",
       "      <td>1096</td>\n",
       "      <td>-22.984353</td>\n",
       "      <td>-43.201281</td>\n",
       "    </tr>\n",
       "    <tr>\n",
       "      <th>Jacarepaguá</th>\n",
       "      <td>1323</td>\n",
       "      <td>642</td>\n",
       "      <td>-22.967927</td>\n",
       "      <td>-43.392800</td>\n",
       "    </tr>\n",
       "    <tr>\n",
       "      <th>Botafogo</th>\n",
       "      <td>1195</td>\n",
       "      <td>427</td>\n",
       "      <td>-22.950910</td>\n",
       "      <td>-43.184995</td>\n",
       "    </tr>\n",
       "  </tbody>\n",
       "</table>\n",
       "</div>"
      ],
      "text/plain": [
       "                        Number of listings  Average price   Latitude  Longitude\n",
       "neighbourhood_cleansed                                                         \n",
       "Copacabana                            7378            959 -22.972767 -43.186333\n",
       "Barra da Tijuca                       2588           1077 -23.005272 -43.352296\n",
       "Ipanema                               2452           1096 -22.984353 -43.201281\n",
       "Jacarepaguá                           1323            642 -22.967927 -43.392800\n",
       "Botafogo                              1195            427 -22.950910 -43.184995"
      ]
     },
     "execution_count": 9,
     "metadata": {
      "tags": []
     },
     "output_type": "execute_result"
    }
   ],
   "source": [
    "# Clean the price column and get average\n",
    "clean_price = lambda string:int(string[1:-3].replace(',',''))\n",
    "price_agg = lambda col:int(col.map(clean_price).mean())\n",
    "\n",
    "\n",
    "# Aggregate metrics for additional columns\n",
    "aggregate = {'id':'count','price':price_agg,\n",
    "             'latitude':'mean','longitude':'mean',}\n",
    "\n",
    "# Rename columns for readability\n",
    "new_column_names = {'id':'Number of listings','price':'Average price',\n",
    "                    'latitude':'Latitude','longitude':'Longitude'}\n",
    "\n",
    "# Transform data\n",
    "most_popular_neighbourhoods = df.groupby('neighbourhood_cleansed')\\\n",
    "    .agg(aggregate)\\\n",
    "    .sort_values('id', ascending=False)\\\n",
    "    .rename(columns=new_column_names)\n",
    "\n",
    "most_popular_neighbourhoods.head(5)"
   ]
  },
  {
   "cell_type": "markdown",
   "metadata": {
    "id": "zjN1gl19ShWI"
   },
   "source": [
    "#####  Mapbox will break your maps if you request too often, so be careful"
   ]
  },
  {
   "cell_type": "code",
   "execution_count": 10,
   "metadata": {
    "ExecuteTime": {
     "end_time": "2021-01-18T05:06:06.114482Z",
     "start_time": "2021-01-18T05:06:06.017228Z"
    },
    "colab": {
     "base_uri": "https://localhost:8080/",
     "height": 542
    },
    "id": "sjxvEPhXShWJ",
    "outputId": "c96c27d1-5489-444b-8a0c-60e326cf50fd"
   },
   "outputs": [
    {
     "data": {
      "text/html": [
       "<html>\n",
       "<head><meta charset=\"utf-8\" /></head>\n",
       "<body>\n",
       "    <div>\n",
       "            <script src=\"https://cdnjs.cloudflare.com/ajax/libs/mathjax/2.7.5/MathJax.js?config=TeX-AMS-MML_SVG\"></script><script type=\"text/javascript\">if (window.MathJax) {MathJax.Hub.Config({SVG: {font: \"STIX-Web\"}});}</script>\n",
       "                <script type=\"text/javascript\">window.PlotlyConfig = {MathJaxConfig: 'local'};</script>\n",
       "        <script src=\"https://cdn.plot.ly/plotly-latest.min.js\"></script>    \n",
       "            <div id=\"cc4397b9-7bab-414e-8e1d-4075893c14ab\" class=\"plotly-graph-div\" style=\"height:525px; width:100%;\"></div>\n",
       "            <script type=\"text/javascript\">\n",
       "                \n",
       "                    window.PLOTLYENV=window.PLOTLYENV || {};\n",
       "                    \n",
       "                if (document.getElementById(\"cc4397b9-7bab-414e-8e1d-4075893c14ab\")) {\n",
       "                    Plotly.newPlot(\n",
       "                        'cc4397b9-7bab-414e-8e1d-4075893c14ab',\n",
       "                        [{\"hoverlabel\": {\"namelength\": 0}, \"hovertemplate\": \"size=%{marker.size}<br>Latitude=%{lat}<br>Longitude=%{lon}<br>Average price=%{marker.color}\", \"lat\": [-22.972767257720978, -23.005272179289083, -22.98435258267958, -22.967927422524564, -22.95090992468621, -22.983562703586582, -23.019603024085647, -22.92077921524665, -22.911479797843675, -22.934678825561296, -22.96263914807305, -22.92636796257796, -22.93585696261683, -22.969553700787404, -22.97766568548388, -22.926609012875556, -22.99541852115307, -22.96269432692308, -22.92085701492537, -22.977482631578948, -22.915680053475924, -22.91402138554219, -22.956792024539876, -22.98908855072464, -22.939102499999997, -22.99404372093024, -22.924810725806452, -22.986653928571425, -22.949399009009007, -22.98571489583333, -22.924457311827947, -22.989270344827585, -23.011585764705874, -22.902326547619047, -22.94020925925926, -22.899987142857146, -22.91630405797102, -22.953140526315785, -22.912650925925927, -22.81320192307692, -23.054219411764713, -22.932618999999995, -22.9249934, -22.92261562500001, -22.896340227272727, -22.951130000000003, -22.966297179487174, -22.907968235294113, -22.75617212121212, -22.895525937500004, -22.90052964285714, -22.835208571428574, -22.88965185185185, -22.832073749999996, -22.898527083333335, -22.90453833333334, -22.86184181818182, -22.798566666666666, -22.900993809523808, -22.910352857142858, -22.988678421052633, -22.898551052631575, -22.91561666666666, -22.837421764705883, -22.86686235294118, -22.957852352941178, -22.896194374999997, -22.895213124999998, -22.915774666666664, -22.884294666666673, -22.901626000000004, -22.878333076923074, -22.882181666666668, -22.94724833333333, -22.884487500000002, -22.909177272727277, -22.895377272727277, -22.84474363636364, -22.84284909090909, -22.875425454545454, -22.90317272727273, -22.885385000000003, -22.919283333333333, -22.858006666666668, -22.79617111111111, -22.908666666666665, -22.889359999999996, -22.893064444444445, -22.90143222222222, -22.87431125, -22.847982500000004, -22.880791249999998, -22.88268125, -22.8565875, -22.83916, -22.86666625, -22.88632857142857, -22.90708, -23.004021428571427, -22.91210333333333, -22.870143333333335, -22.883771666666664, -22.88179333333333, -22.900583333333334, -22.87872833333333, -22.87505333333333, -22.804581666666667, -22.87225666666667, -22.897376, -22.981056, -22.867686000000003, -22.854662, -22.886034, -22.834132, -22.832755999999996, -22.818614000000004, -22.826878, -22.807942000000004, -22.893915, -22.8718875, -22.817529999999998, -22.868225, -22.8674575, -22.8092625, -22.8191375, -22.823326666666663, -22.836273333333335, -22.79257, -22.816833333333335, -22.797133333333335, -22.8519, -22.858765000000002, -22.7962, -22.81034, -22.818775000000002, -22.87538, -23.051524999999998, -22.859115000000003, -22.825339999999997, -22.842685, -22.883575, -22.823685, -22.85096, -22.8286, -22.82216, -22.84741, -22.866239999999998, -22.87921, -22.814989999999998, -22.82563, -22.90849], \"legendgroup\": \"\", \"lon\": [-43.1863327784996, -43.35229558346211, -43.201280633357484, -43.39280004535148, -43.18499545606693, -43.223284602574736, -43.47153258697588, -43.18683922645741, -43.18350319407008, -43.175924473229756, -43.170419898580086, -43.231519792099796, -43.18744070093459, -43.20408129921264, -43.415686088709684, -43.17895506437768, -43.26382307077678, -43.218652644230744, -43.17596741293531, -43.23135399999999, -43.24449812834224, -43.229046084337355, -43.199821779141104, -43.31010688405797, -43.34084772058824, -43.236723488372085, -43.378663387096765, -43.46054589285715, -43.165726576576596, -43.49571552083333, -43.20879247311827, -43.593420459770115, -43.29084070588234, -43.56628119047619, -43.198687654321006, -43.2219625974026, -43.206187826086946, -43.38678719298246, -43.21353074074073, -43.19959999999999, -43.56033196078432, -43.35537919999999, -43.24774999999999, -43.263054166666656, -43.29405568181818, -43.336572857142855, -43.26813641025641, -43.26867676470589, -43.107840606060606, -43.285905625, -43.280362857142855, -43.3238317857143, -43.27574925925925, -43.29689583333334, -43.350590833333335, -43.24283291666666, -43.2537590909091, -43.20704857142859, -43.248826190476194, -43.20115619047619, -43.249147894736836, -43.18429631578947, -43.67388055555556, -43.2736905882353, -43.46967647058824, -43.35091588235294, -43.193171875000004, -43.303390625, -43.362548, -43.368571333333335, -43.25492266666667, -43.27048692307692, -43.263065833333336, -43.361170833333325, -43.30739166666667, -43.279628181818175, -43.22552454545454, -43.30806727272728, -43.37358, -43.263706363636366, -43.20383727272728, -43.34676, -43.19574444444444, -43.366977777777784, -43.18714555555555, -43.61133333333334, -43.394932222222224, -43.23966222222222, -43.2595588888889, -43.524223750000004, -43.267793749999996, -43.293845000000005, -43.4512675, -43.25842625, -43.397529999999996, -43.35943125, -43.31710571428572, -43.235662857142856, -43.634868571428576, -43.63834833333333, -43.34991666666667, -43.49019166666667, -43.326793333333335, -43.59105333333334, -43.42896166666666, -43.27638666666667, -43.17979499999999, -43.33846666666667, -43.53278, -43.691378, -43.306474, -43.313518, -43.29820600000001, -43.290832, -43.40446, -43.304862, -43.351386000000005, -43.194857999999996, -43.257859999999994, -43.402820000000006, -43.3691175, -43.218517500000004, -43.29788249999999, -43.17978, -43.2251225, -43.17163333333334, -43.367160000000005, -43.16855999999999, -43.17988333333333, -43.19792, -43.34855666666667, -43.32376, -43.174705, -43.31691, -43.188325, -43.317845000000005, -43.534255, -43.27611, -43.309745, -43.387785, -43.246545, -43.39805, -43.30878, -43.31916, -43.17549, -43.357859999999995, -43.24131, -43.41175, -43.3338, -43.46393, -43.31344], \"marker\": {\"color\": [959, 1077, 1096, 642, 427, 1086, 819, 647, 335, 446, 783, 472, 573, 1116, 494, 357, 2396, 804, 504, 885, 468, 664, 625, 1214, 529, 509, 688, 816, 548, 761, 358, 2288, 5058, 481, 625, 8131, 228, 448, 508, 216, 1412, 495, 1145, 315, 456, 433, 5239, 327, 347, 527, 306, 289, 273, 114, 266, 502, 150, 175, 374, 336, 211, 203, 637, 138, 3444, 540, 748, 243, 299, 441, 411, 368, 358, 733, 305, 208, 144, 132, 240, 314, 619, 346, 338, 692, 162, 409, 453, 403, 299, 244, 330, 180, 231, 272, 639, 186, 351, 227, 482, 446, 908, 253, 212, 448, 677, 300, 269, 171, 383, 597, 230, 386, 346, 139, 433, 219, 105, 90, 425, 1065, 471, 141, 635, 350, 173, 302, 223, 580, 166, 130, 389, 797, 157, 532, 795, 925, 1003, 520, 125, 202, 593, 2729, 62, 1262, 160, 200, 150, 151, 300, 110, 180], \"coloraxis\": \"coloraxis\", \"size\": [7388, 2598, 2462, 1333, 1205, 1167, 1131, 902, 752, 589, 503, 491, 438, 264, 258, 243, 236, 218, 211, 200, 197, 176, 173, 148, 146, 139, 134, 122, 121, 106, 103, 97, 95, 94, 91, 87, 79, 67, 64, 62, 61, 60, 60, 58, 54, 52, 49, 44, 43, 42, 38, 38, 37, 34, 34, 34, 32, 31, 31, 31, 29, 29, 28, 27, 27, 27, 26, 26, 25, 25, 25, 23, 22, 22, 22, 21, 21, 21, 21, 21, 21, 20, 19, 19, 19, 19, 19, 19, 19, 18, 18, 18, 18, 18, 18, 18, 17, 17, 17, 16, 16, 16, 16, 16, 16, 16, 16, 16, 15, 15, 15, 15, 15, 15, 15, 15, 15, 15, 14, 14, 14, 14, 14, 14, 14, 13, 13, 13, 13, 13, 13, 12, 12, 12, 12, 12, 12, 12, 12, 12, 12, 12, 12, 11, 11, 11, 11, 11, 11, 11, 11], \"sizemode\": \"area\", \"sizeref\": 18.47}, \"mode\": \"markers\", \"name\": \"\", \"showlegend\": false, \"subplot\": \"mapbox\", \"type\": \"scattermapbox\"}],\n",
       "                        {\"coloraxis\": {\"colorbar\": {\"title\": {\"text\": \"Average price\"}}, \"colorscale\": [[0.0, \"#0d0887\"], [0.1111111111111111, \"#46039f\"], [0.2222222222222222, \"#7201a8\"], [0.3333333333333333, \"#9c179e\"], [0.4444444444444444, \"#bd3786\"], [0.5555555555555556, \"#d8576b\"], [0.6666666666666666, \"#ed7953\"], [0.7777777777777778, \"#fb9f3a\"], [0.8888888888888888, \"#fdca26\"], [1.0, \"#f0f921\"]]}, \"legend\": {\"itemsizing\": \"constant\", \"tracegroupgap\": 0}, \"mapbox\": {\"center\": {\"lat\": -22.89485975236914, \"lon\": -43.30880269874213}, \"domain\": {\"x\": [0.0, 1.0], \"y\": [0.0, 1.0]}, \"style\": \"open-street-map\", \"zoom\": 10}, \"margin\": {\"t\": 60}, \"template\": {\"data\": {\"bar\": [{\"error_x\": {\"color\": \"#2a3f5f\"}, \"error_y\": {\"color\": \"#2a3f5f\"}, \"marker\": {\"line\": {\"color\": \"#E5ECF6\", \"width\": 0.5}}, \"type\": \"bar\"}], \"barpolar\": [{\"marker\": {\"line\": {\"color\": \"#E5ECF6\", \"width\": 0.5}}, \"type\": \"barpolar\"}], \"carpet\": [{\"aaxis\": {\"endlinecolor\": \"#2a3f5f\", \"gridcolor\": \"white\", \"linecolor\": \"white\", \"minorgridcolor\": \"white\", \"startlinecolor\": \"#2a3f5f\"}, \"baxis\": {\"endlinecolor\": \"#2a3f5f\", \"gridcolor\": \"white\", \"linecolor\": \"white\", \"minorgridcolor\": \"white\", \"startlinecolor\": \"#2a3f5f\"}, \"type\": \"carpet\"}], \"choropleth\": [{\"colorbar\": {\"outlinewidth\": 0, \"ticks\": \"\"}, \"type\": \"choropleth\"}], \"contour\": [{\"colorbar\": {\"outlinewidth\": 0, \"ticks\": \"\"}, \"colorscale\": [[0.0, \"#0d0887\"], [0.1111111111111111, \"#46039f\"], [0.2222222222222222, \"#7201a8\"], [0.3333333333333333, \"#9c179e\"], [0.4444444444444444, \"#bd3786\"], [0.5555555555555556, \"#d8576b\"], [0.6666666666666666, \"#ed7953\"], [0.7777777777777778, \"#fb9f3a\"], [0.8888888888888888, \"#fdca26\"], [1.0, \"#f0f921\"]], \"type\": \"contour\"}], \"contourcarpet\": [{\"colorbar\": {\"outlinewidth\": 0, \"ticks\": \"\"}, \"type\": \"contourcarpet\"}], \"heatmap\": [{\"colorbar\": {\"outlinewidth\": 0, \"ticks\": \"\"}, \"colorscale\": [[0.0, \"#0d0887\"], [0.1111111111111111, \"#46039f\"], [0.2222222222222222, \"#7201a8\"], [0.3333333333333333, \"#9c179e\"], [0.4444444444444444, \"#bd3786\"], [0.5555555555555556, \"#d8576b\"], [0.6666666666666666, \"#ed7953\"], [0.7777777777777778, \"#fb9f3a\"], [0.8888888888888888, \"#fdca26\"], [1.0, \"#f0f921\"]], \"type\": \"heatmap\"}], \"heatmapgl\": [{\"colorbar\": {\"outlinewidth\": 0, \"ticks\": \"\"}, \"colorscale\": [[0.0, \"#0d0887\"], [0.1111111111111111, \"#46039f\"], [0.2222222222222222, \"#7201a8\"], [0.3333333333333333, \"#9c179e\"], [0.4444444444444444, \"#bd3786\"], [0.5555555555555556, \"#d8576b\"], [0.6666666666666666, \"#ed7953\"], [0.7777777777777778, \"#fb9f3a\"], [0.8888888888888888, \"#fdca26\"], [1.0, \"#f0f921\"]], \"type\": \"heatmapgl\"}], \"histogram\": [{\"marker\": {\"colorbar\": {\"outlinewidth\": 0, \"ticks\": \"\"}}, \"type\": \"histogram\"}], \"histogram2d\": [{\"colorbar\": {\"outlinewidth\": 0, \"ticks\": \"\"}, \"colorscale\": [[0.0, \"#0d0887\"], [0.1111111111111111, \"#46039f\"], [0.2222222222222222, \"#7201a8\"], [0.3333333333333333, \"#9c179e\"], [0.4444444444444444, \"#bd3786\"], [0.5555555555555556, \"#d8576b\"], [0.6666666666666666, \"#ed7953\"], [0.7777777777777778, \"#fb9f3a\"], [0.8888888888888888, \"#fdca26\"], [1.0, \"#f0f921\"]], \"type\": \"histogram2d\"}], \"histogram2dcontour\": [{\"colorbar\": {\"outlinewidth\": 0, \"ticks\": \"\"}, \"colorscale\": [[0.0, \"#0d0887\"], [0.1111111111111111, \"#46039f\"], [0.2222222222222222, \"#7201a8\"], [0.3333333333333333, \"#9c179e\"], [0.4444444444444444, \"#bd3786\"], [0.5555555555555556, \"#d8576b\"], [0.6666666666666666, \"#ed7953\"], [0.7777777777777778, \"#fb9f3a\"], [0.8888888888888888, \"#fdca26\"], [1.0, \"#f0f921\"]], \"type\": \"histogram2dcontour\"}], \"mesh3d\": [{\"colorbar\": {\"outlinewidth\": 0, \"ticks\": \"\"}, \"type\": \"mesh3d\"}], \"parcoords\": [{\"line\": {\"colorbar\": {\"outlinewidth\": 0, \"ticks\": \"\"}}, \"type\": \"parcoords\"}], \"pie\": [{\"automargin\": true, \"type\": \"pie\"}], \"scatter\": [{\"marker\": {\"colorbar\": {\"outlinewidth\": 0, \"ticks\": \"\"}}, \"type\": \"scatter\"}], \"scatter3d\": [{\"line\": {\"colorbar\": {\"outlinewidth\": 0, \"ticks\": \"\"}}, \"marker\": {\"colorbar\": {\"outlinewidth\": 0, \"ticks\": \"\"}}, \"type\": \"scatter3d\"}], \"scattercarpet\": [{\"marker\": {\"colorbar\": {\"outlinewidth\": 0, \"ticks\": \"\"}}, \"type\": \"scattercarpet\"}], \"scattergeo\": [{\"marker\": {\"colorbar\": {\"outlinewidth\": 0, \"ticks\": \"\"}}, \"type\": \"scattergeo\"}], \"scattergl\": [{\"marker\": {\"colorbar\": {\"outlinewidth\": 0, \"ticks\": \"\"}}, \"type\": \"scattergl\"}], \"scattermapbox\": [{\"marker\": {\"colorbar\": {\"outlinewidth\": 0, \"ticks\": \"\"}}, \"type\": \"scattermapbox\"}], \"scatterpolar\": [{\"marker\": {\"colorbar\": {\"outlinewidth\": 0, \"ticks\": \"\"}}, \"type\": \"scatterpolar\"}], \"scatterpolargl\": [{\"marker\": {\"colorbar\": {\"outlinewidth\": 0, \"ticks\": \"\"}}, \"type\": \"scatterpolargl\"}], \"scatterternary\": [{\"marker\": {\"colorbar\": {\"outlinewidth\": 0, \"ticks\": \"\"}}, \"type\": \"scatterternary\"}], \"surface\": [{\"colorbar\": {\"outlinewidth\": 0, \"ticks\": \"\"}, \"colorscale\": [[0.0, \"#0d0887\"], [0.1111111111111111, \"#46039f\"], [0.2222222222222222, \"#7201a8\"], [0.3333333333333333, \"#9c179e\"], [0.4444444444444444, \"#bd3786\"], [0.5555555555555556, \"#d8576b\"], [0.6666666666666666, \"#ed7953\"], [0.7777777777777778, \"#fb9f3a\"], [0.8888888888888888, \"#fdca26\"], [1.0, \"#f0f921\"]], \"type\": \"surface\"}], \"table\": [{\"cells\": {\"fill\": {\"color\": \"#EBF0F8\"}, \"line\": {\"color\": \"white\"}}, \"header\": {\"fill\": {\"color\": \"#C8D4E3\"}, \"line\": {\"color\": \"white\"}}, \"type\": \"table\"}]}, \"layout\": {\"annotationdefaults\": {\"arrowcolor\": \"#2a3f5f\", \"arrowhead\": 0, \"arrowwidth\": 1}, \"coloraxis\": {\"colorbar\": {\"outlinewidth\": 0, \"ticks\": \"\"}}, \"colorscale\": {\"diverging\": [[0, \"#8e0152\"], [0.1, \"#c51b7d\"], [0.2, \"#de77ae\"], [0.3, \"#f1b6da\"], [0.4, \"#fde0ef\"], [0.5, \"#f7f7f7\"], [0.6, \"#e6f5d0\"], [0.7, \"#b8e186\"], [0.8, \"#7fbc41\"], [0.9, \"#4d9221\"], [1, \"#276419\"]], \"sequential\": [[0.0, \"#0d0887\"], [0.1111111111111111, \"#46039f\"], [0.2222222222222222, \"#7201a8\"], [0.3333333333333333, \"#9c179e\"], [0.4444444444444444, \"#bd3786\"], [0.5555555555555556, \"#d8576b\"], [0.6666666666666666, \"#ed7953\"], [0.7777777777777778, \"#fb9f3a\"], [0.8888888888888888, \"#fdca26\"], [1.0, \"#f0f921\"]], \"sequentialminus\": [[0.0, \"#0d0887\"], [0.1111111111111111, \"#46039f\"], [0.2222222222222222, \"#7201a8\"], [0.3333333333333333, \"#9c179e\"], [0.4444444444444444, \"#bd3786\"], [0.5555555555555556, \"#d8576b\"], [0.6666666666666666, \"#ed7953\"], [0.7777777777777778, \"#fb9f3a\"], [0.8888888888888888, \"#fdca26\"], [1.0, \"#f0f921\"]]}, \"colorway\": [\"#636efa\", \"#EF553B\", \"#00cc96\", \"#ab63fa\", \"#FFA15A\", \"#19d3f3\", \"#FF6692\", \"#B6E880\", \"#FF97FF\", \"#FECB52\"], \"font\": {\"color\": \"#2a3f5f\"}, \"geo\": {\"bgcolor\": \"white\", \"lakecolor\": \"white\", \"landcolor\": \"#E5ECF6\", \"showlakes\": true, \"showland\": true, \"subunitcolor\": \"white\"}, \"hoverlabel\": {\"align\": \"left\"}, \"hovermode\": \"closest\", \"mapbox\": {\"style\": \"light\"}, \"paper_bgcolor\": \"white\", \"plot_bgcolor\": \"#E5ECF6\", \"polar\": {\"angularaxis\": {\"gridcolor\": \"white\", \"linecolor\": \"white\", \"ticks\": \"\"}, \"bgcolor\": \"#E5ECF6\", \"radialaxis\": {\"gridcolor\": \"white\", \"linecolor\": \"white\", \"ticks\": \"\"}}, \"scene\": {\"xaxis\": {\"backgroundcolor\": \"#E5ECF6\", \"gridcolor\": \"white\", \"gridwidth\": 2, \"linecolor\": \"white\", \"showbackground\": true, \"ticks\": \"\", \"zerolinecolor\": \"white\"}, \"yaxis\": {\"backgroundcolor\": \"#E5ECF6\", \"gridcolor\": \"white\", \"gridwidth\": 2, \"linecolor\": \"white\", \"showbackground\": true, \"ticks\": \"\", \"zerolinecolor\": \"white\"}, \"zaxis\": {\"backgroundcolor\": \"#E5ECF6\", \"gridcolor\": \"white\", \"gridwidth\": 2, \"linecolor\": \"white\", \"showbackground\": true, \"ticks\": \"\", \"zerolinecolor\": \"white\"}}, \"shapedefaults\": {\"line\": {\"color\": \"#2a3f5f\"}}, \"ternary\": {\"aaxis\": {\"gridcolor\": \"white\", \"linecolor\": \"white\", \"ticks\": \"\"}, \"baxis\": {\"gridcolor\": \"white\", \"linecolor\": \"white\", \"ticks\": \"\"}, \"bgcolor\": \"#E5ECF6\", \"caxis\": {\"gridcolor\": \"white\", \"linecolor\": \"white\", \"ticks\": \"\"}}, \"title\": {\"x\": 0.05}, \"xaxis\": {\"automargin\": true, \"gridcolor\": \"white\", \"linecolor\": \"white\", \"ticks\": \"\", \"title\": {\"standoff\": 15}, \"zerolinecolor\": \"white\", \"zerolinewidth\": 2}, \"yaxis\": {\"automargin\": true, \"gridcolor\": \"white\", \"linecolor\": \"white\", \"ticks\": \"\", \"title\": {\"standoff\": 15}, \"zerolinecolor\": \"white\", \"zerolinewidth\": 2}}}},\n",
       "                        {\"responsive\": true}\n",
       "                    ).then(function(){\n",
       "                            \n",
       "var gd = document.getElementById('cc4397b9-7bab-414e-8e1d-4075893c14ab');\n",
       "var x = new MutationObserver(function (mutations, observer) {{\n",
       "        var display = window.getComputedStyle(gd).display;\n",
       "        if (!display || display === 'none') {{\n",
       "            console.log([gd, 'removed!']);\n",
       "            Plotly.purge(gd);\n",
       "            observer.disconnect();\n",
       "        }}\n",
       "}});\n",
       "\n",
       "// Listen for the removal of the full notebook cells\n",
       "var notebookContainer = gd.closest('#notebook-container');\n",
       "if (notebookContainer) {{\n",
       "    x.observe(notebookContainer, {childList: true});\n",
       "}}\n",
       "\n",
       "// Listen for the clearing of the current output cell\n",
       "var outputEl = gd.closest('.output');\n",
       "if (outputEl) {{\n",
       "    x.observe(outputEl, {childList: true});\n",
       "}}\n",
       "\n",
       "                        })\n",
       "                };\n",
       "                \n",
       "            </script>\n",
       "        </div>\n",
       "</body>\n",
       "</html>"
      ]
     },
     "metadata": {
      "tags": []
     },
     "output_type": "display_data"
    }
   ],
   "source": [
    "import plotly.express as px\n",
    "\n",
    "# Geographic center for map visualization\n",
    "center = {\n",
    "    'lat':most_popular_neighbourhoods['Latitude'].mean(),\n",
    "    'lon':most_popular_neighbourhoods['Longitude'].mean()\n",
    "}\n",
    "\n",
    "# Resize the \"Number of listings\" column for better visual effect\n",
    "size = most_popular_neighbourhoods['Number of listings'].map(\n",
    "    lambda count: count + 10)\n",
    "\n",
    "# Scatter plot laid over a Mapbox map\n",
    "fig = px.scatter_mapbox(\n",
    "    most_popular_neighbourhoods,\n",
    "    lat='Latitude',\n",
    "    lon='Longitude',\n",
    "    zoom=10,\n",
    "    size=size,\n",
    "    center=center,\n",
    "    color='Average price',\n",
    "    mapbox_style='open-street-map',)\n",
    "\n",
    "\n",
    "fig.show()"
   ]
  },
  {
   "cell_type": "markdown",
   "metadata": {},
   "source": [
    "![mapbox](../images/mapbox.png)"
   ]
  }
 ],
 "metadata": {
  "colab": {
   "name": "Rio_de_Janiero_Airbnb_EDA_Plotly_Viz.ipynb",
   "provenance": []
  },
  "kernelspec": {
   "display_name": "Python 3",
   "language": "python",
   "name": "python3"
  },
  "language_info": {
   "codemirror_mode": {
    "name": "ipython",
    "version": 3
   },
   "file_extension": ".py",
   "mimetype": "text/x-python",
   "name": "python",
   "nbconvert_exporter": "python",
   "pygments_lexer": "ipython3",
   "version": "3.7.4"
  }
 },
 "nbformat": 4,
 "nbformat_minor": 1
}
