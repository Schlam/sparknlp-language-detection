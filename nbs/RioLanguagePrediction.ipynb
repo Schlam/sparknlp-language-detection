{
 "cells": [
  {
   "cell_type": "markdown",
   "metadata": {
    "id": "uz8Qm4iE0hmT"
   },
   "source": [
    "# Identify the languge of user reviews \n",
    "---\n",
    "\n",
    "Using Apache Spark/John Snow NLP resources"
   ]
  },
  {
   "cell_type": "markdown",
   "metadata": {
    "id": "9K1VAu8x0gTr"
   },
   "source": [
    "## Setup"
   ]
  },
  {
   "cell_type": "code",
   "execution_count": 1,
   "metadata": {
    "colab": {
     "base_uri": "https://localhost:8080/"
    },
    "id": "NXeGPU1rtOMa",
    "outputId": "f3922066-154a-49dc-acf8-921f69d12ac6"
   },
   "outputs": [
    {
     "name": "stdout",
     "output_type": "stream",
     "text": [
      "Processing /root/.cache/pip/wheels/ab/09/4d/0d184230058e654eb1b04467dbc1292f00eaa186544604b471/pyspark-2.4.4-py2.py3-none-any.whl\n",
      "Collecting py4j==0.10.7\n",
      "  Using cached https://files.pythonhosted.org/packages/e3/53/c737818eb9a7dc32a7cd4f1396e787bd94200c3997c72c1dbe028587bd76/py4j-0.10.7-py2.py3-none-any.whl\n",
      "Installing collected packages: py4j, pyspark\n",
      "Successfully installed py4j-0.10.7 pyspark-2.4.4\n",
      "Collecting spark-nlp==2.6.3\n",
      "\u001b[?25l  Downloading https://files.pythonhosted.org/packages/84/84/3f15673db521fbc4e8e0ec3677a019ba1458b2cb70f0f7738c221511ef32/spark_nlp-2.6.3-py2.py3-none-any.whl (129kB)\n",
      "\u001b[K     |████████████████████████████████| 133kB 6.0MB/s \n",
      "\u001b[?25hInstalling collected packages: spark-nlp\n",
      "Successfully installed spark-nlp-2.6.3\n"
     ]
    }
   ],
   "source": [
    "import os\n",
    "\n",
    "# Install java\n",
    "! apt-get update -qq\n",
    "! apt-get install -y openjdk-8-jdk-headless -qq > /dev/null\n",
    "\n",
    "# Set environment\n",
    "os.environ[\"JAVA_HOME\"] = \"/usr/lib/jvm/java-8-openjdk-amd64\"\n",
    "os.environ[\"PATH\"] = os.environ[\"JAVA_HOME\"] + \"/bin:\" + os.environ[\"PATH\"]\n",
    "\n",
    "# Install packages\n",
    "! pip install --ignore-installed pyspark==2.4.4\n",
    "! pip install --ignore-installed spark-nlp==2.6.3"
   ]
  },
  {
   "cell_type": "markdown",
   "metadata": {
    "id": "GE3j-Ops1nrv"
   },
   "source": [
    "### Clean data"
   ]
  },
  {
   "cell_type": "code",
   "execution_count": 10,
   "metadata": {
    "id": "qdGYzbKNt2b2"
   },
   "outputs": [],
   "source": [
    "import pandas as pd\n",
    "\n",
    "# Prepare review data\n",
    "def clean_data():\n",
    "    df=pd.read_csv('reviews.csv.gz')\n",
    "    df.comments.fillna('',inplace=True)\n",
    "    df.comments=df.comments.map(\n",
    "        lambda x:x.replace('\\n','').replace('\\r',''))\n",
    "    return df.comments\n",
    "\n",
    "comments = clean_data()"
   ]
  },
  {
   "cell_type": "markdown",
   "metadata": {
    "id": "VajoGMp0VVuE"
   },
   "source": [
    "## Load data"
   ]
  },
  {
   "cell_type": "code",
   "execution_count": 12,
   "metadata": {
    "colab": {
     "base_uri": "https://localhost:8080/"
    },
    "id": "K2ZqwFpIQzBY",
    "outputId": "0f6dec16-5a51-4572-fc0c-fbf36222e51e"
   },
   "outputs": [
    {
     "name": "stdout",
     "output_type": "stream",
     "text": [
      "+--------------------+\n",
      "|               value|\n",
      "+--------------------+\n",
      "|This apartment is...|\n",
      "|we had a really g...|\n",
      "|Staying in Max ap...|\n",
      "|In general very g...|\n",
      "|The apt was nice ...|\n",
      "+--------------------+\n",
      "only showing top 5 rows\n",
      "\n"
     ]
    }
   ],
   "source": [
    "import sparknlp\n",
    "from sparknlp.base import *\n",
    "from sparknlp.common import *\n",
    "from sparknlp.annotator import *\n",
    "from pyspark.sql.types import StringType\n",
    "\n",
    "\n",
    "# Start sparknlp session\n",
    "spark = sparknlp.start()\n",
    "\n",
    "dfSpark = spark.createDataFrame(comments, StringType())\n",
    "dfSpark.show(5)"
   ]
  },
  {
   "cell_type": "markdown",
   "metadata": {
    "id": "1HO_0zJ21q0h"
   },
   "source": [
    "## Prepare documents for classifier"
   ]
  },
  {
   "cell_type": "code",
   "execution_count": 15,
   "metadata": {
    "colab": {
     "base_uri": "https://localhost:8080/"
    },
    "id": "t64eIzVgv93P",
    "outputId": "63dae8cb-ef0a-480b-db5a-ce7dbb5aeeb1"
   },
   "outputs": [
    {
     "name": "stdout",
     "output_type": "stream",
     "text": [
      "+--------------------+--------------------+\n",
      "|               value|            document|\n",
      "+--------------------+--------------------+\n",
      "|This apartment is...|[[document, 0, 39...|\n",
      "|we had a really g...|[[document, 0, 32...|\n",
      "|Staying in Max ap...|[[document, 0, 38...|\n",
      "|In general very g...|[[document, 0, 52...|\n",
      "|The apt was nice ...|[[document, 0, 11...|\n",
      "|At Copacabana apa...|[[document, 0, 93...|\n",
      "|A great apartment...|[[document, 0, 16...|\n",
      "|Apartment is exac...|[[document, 0, 32...|\n",
      "|Great apartment, ...|[[document, 0, 31...|\n",
      "|Max was very orga...|[[document, 0, 39...|\n",
      "+--------------------+--------------------+\n",
      "only showing top 10 rows\n",
      "\n"
     ]
    }
   ],
   "source": [
    "# Assemble documents\n",
    "documentAssembler = DocumentAssembler()\\\n",
    "    .setInputCol(\"value\")\\\n",
    "    .setOutputCol(\"document\")\n",
    "\n",
    "\n",
    "assembled = documentAssembler.transform(dfSpark)\n",
    "assembled.select(['value','document']).show(10)"
   ]
  },
  {
   "cell_type": "markdown",
   "metadata": {
    "id": "Pr-IFZ1u11kq"
   },
   "source": [
    "## Detect language"
   ]
  },
  {
   "cell_type": "code",
   "execution_count": 17,
   "metadata": {
    "colab": {
     "base_uri": "https://localhost:8080/"
    },
    "id": "oTu_RcH8vi6v",
    "outputId": "bf8637cc-521e-4f13-9eb6-fd6e5706d135"
   },
   "outputs": [
    {
     "name": "stdout",
     "output_type": "stream",
     "text": [
      "ld_wiki_20 download started this may take some time.\n",
      "Approximate size to download 3 MB\n",
      "[OK!]\n",
      "+--------------------+--------------------+\n",
      "|               value|            language|\n",
      "+--------------------+--------------------+\n",
      "|This apartment is...|[[language, 0, 39...|\n",
      "|we had a really g...|[[language, 0, 32...|\n",
      "|Staying in Max ap...|[[language, 0, 38...|\n",
      "|In general very g...|[[language, 0, 52...|\n",
      "|The apt was nice ...|[[language, 0, 11...|\n",
      "|At Copacabana apa...|[[language, 0, 93...|\n",
      "|A great apartment...|[[language, 0, 16...|\n",
      "|Apartment is exac...|[[language, 0, 32...|\n",
      "|Great apartment, ...|[[language, 0, 31...|\n",
      "|Max was very orga...|[[language, 0, 39...|\n",
      "+--------------------+--------------------+\n",
      "only showing top 10 rows\n",
      "\n"
     ]
    }
   ],
   "source": [
    "# Detect language\n",
    "detectLanguage = LanguageDetectorDL()\\\n",
    "    .pretrained('ld_wiki_20',lang='xx')\\\n",
    "    .setInputCols(['document'])\\\n",
    "    .setOutputCol('language')\\\n",
    "    .setCoalesceSentences(False)\\\n",
    "    .setThreshold(.3)\n",
    "\n",
    "language = detectLanguage.transform(assembled)\n",
    "language.select(['value','language']).show(10)"
   ]
  },
  {
   "cell_type": "markdown",
   "metadata": {
    "id": "DH65t-NuOG4A"
   },
   "source": [
    "### Inspect"
   ]
  },
  {
   "cell_type": "code",
   "execution_count": 18,
   "metadata": {
    "colab": {
     "base_uri": "https://localhost:8080/"
    },
    "id": "j9tuMshgGKS-",
    "outputId": "0bbc5f5a-d6cc-49f3-9c0d-8b4ebeab7629"
   },
   "outputs": [
    {
     "name": "stdout",
     "output_type": "stream",
     "text": [
      "root\n",
      " |-- language: array (nullable = true)\n",
      " |    |-- element: struct (containsNull = true)\n",
      " |    |    |-- annotatorType: string (nullable = true)\n",
      " |    |    |-- begin: integer (nullable = false)\n",
      " |    |    |-- end: integer (nullable = false)\n",
      " |    |    |-- result: string (nullable = true)\n",
      " |    |    |-- metadata: map (nullable = true)\n",
      " |    |    |    |-- key: string\n",
      " |    |    |    |-- value: string (valueContainsNull = true)\n",
      " |    |    |-- embeddings: array (nullable = true)\n",
      " |    |    |    |-- element: float (containsNull = false)\n",
      "\n"
     ]
    }
   ],
   "source": [
    "language.select('language').printSchema()"
   ]
  },
  {
   "cell_type": "code",
   "execution_count": 25,
   "metadata": {
    "colab": {
     "base_uri": "https://localhost:8080/"
    },
    "id": "hmqci04NRkwT",
    "outputId": "671a4440-afa5-47b1-ff90-a5fddab177b0"
   },
   "outputs": [
    {
     "name": "stdout",
     "output_type": "stream",
     "text": [
      "+---------+\n",
      "|predicted|\n",
      "+---------+\n",
      "|       en|\n",
      "|       en|\n",
      "|       en|\n",
      "|       en|\n",
      "|       en|\n",
      "|       pt|\n",
      "|       en|\n",
      "|       en|\n",
      "|       en|\n",
      "|       en|\n",
      "+---------+\n",
      "only showing top 10 rows\n",
      "\n"
     ]
    }
   ],
   "source": [
    "import pyspark.sql.functions as F\n",
    "\n",
    "predicted_language = language.withColumn('predicted',\n",
    "                    F.explode('language.result'))\\\n",
    "                    .select(\"predicted\")\n",
    "\n",
    "predicted_language.show(10)"
   ]
  },
  {
   "cell_type": "markdown",
   "metadata": {
    "id": "b63ehBfIS4zl"
   },
   "source": [
    "#### Write results"
   ]
  },
  {
   "cell_type": "code",
   "execution_count": 27,
   "metadata": {
    "id": "kPRXWm6aSsgg"
   },
   "outputs": [],
   "source": [
    "predicted_language.write.csv(\"language_predictions.csv\")"
   ]
  },
  {
   "cell_type": "code",
   "execution_count": 28,
   "metadata": {
    "colab": {
     "base_uri": "https://localhost:8080/",
     "height": 16
    },
    "id": "vgRGsEONTuz4",
    "outputId": "b36dfc3a-22d8-44e3-d259-c8a2b4c2d813"
   },
   "outputs": [
    {
     "data": {
      "application/javascript": [
       "\n",
       "    async function download(id, filename, size) {\n",
       "      if (!google.colab.kernel.accessAllowed) {\n",
       "        return;\n",
       "      }\n",
       "      const div = document.createElement('div');\n",
       "      const label = document.createElement('label');\n",
       "      label.textContent = `Downloading \"${filename}\": `;\n",
       "      div.appendChild(label);\n",
       "      const progress = document.createElement('progress');\n",
       "      progress.max = size;\n",
       "      div.appendChild(progress);\n",
       "      document.body.appendChild(div);\n",
       "\n",
       "      const buffers = [];\n",
       "      let downloaded = 0;\n",
       "\n",
       "      const channel = await google.colab.kernel.comms.open(id);\n",
       "      // Send a message to notify the kernel that we're ready.\n",
       "      channel.send({})\n",
       "\n",
       "      for await (const message of channel.messages) {\n",
       "        // Send a message to notify the kernel that we're ready.\n",
       "        channel.send({})\n",
       "        if (message.buffers) {\n",
       "          for (const buffer of message.buffers) {\n",
       "            buffers.push(buffer);\n",
       "            downloaded += buffer.byteLength;\n",
       "            progress.value = downloaded;\n",
       "          }\n",
       "        }\n",
       "      }\n",
       "      const blob = new Blob(buffers, {type: 'application/binary'});\n",
       "      const a = document.createElement('a');\n",
       "      a.href = window.URL.createObjectURL(blob);\n",
       "      a.download = filename;\n",
       "      div.appendChild(a);\n",
       "      a.click();\n",
       "      div.remove();\n",
       "    }\n",
       "  "
      ],
      "text/plain": [
       "<IPython.core.display.Javascript object>"
      ]
     },
     "metadata": {
      "tags": []
     },
     "output_type": "display_data"
    },
    {
     "data": {
      "application/javascript": [
       "download(\"download_cbf261fc-5dbc-4e3f-89a5-7cf8d4110132\", \"language_predictions.csv\", 4096)"
      ],
      "text/plain": [
       "<IPython.core.display.Javascript object>"
      ]
     },
     "metadata": {
      "tags": []
     },
     "output_type": "display_data"
    }
   ],
   "source": [
    "from google.colab import files\n",
    "    \n",
    "files.download('language_predictions.csv')"
   ]
  }
 ],
 "metadata": {
  "colab": {
   "name": "RioLanguagePrediction.ipynb",
   "provenance": [],
   "toc_visible": true
  },
  "kernelspec": {
   "display_name": "Python 3",
   "language": "python",
   "name": "python3"
  },
  "language_info": {
   "codemirror_mode": {
    "name": "ipython",
    "version": 3
   },
   "file_extension": ".py",
   "mimetype": "text/x-python",
   "name": "python",
   "nbconvert_exporter": "python",
   "pygments_lexer": "ipython3",
   "version": "3.7.4"
  }
 },
 "nbformat": 4,
 "nbformat_minor": 1
}
