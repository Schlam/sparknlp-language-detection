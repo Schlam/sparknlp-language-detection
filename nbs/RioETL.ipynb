{
 "cells": [
  {
   "cell_type": "markdown",
   "metadata": {
    "id": "HzSYF2XUUzBU"
   },
   "source": [
    "# Airbnb in Rio de Janiero\n",
    " "
   ]
  },
  {
   "cell_type": "markdown",
   "metadata": {
    "id": "o7t-H5cXUzBY"
   },
   "source": [
    "## **Part I**: ETL\n",
    "Extract data from AWS bucket and load into postgreSQL database "
   ]
  },
  {
   "cell_type": "markdown",
   "metadata": {
    "id": "l76KNPhqUzBZ"
   },
   "source": [
    "###  Setup"
   ]
  },
  {
   "cell_type": "markdown",
   "metadata": {
    "id": "onKnhNFyUzBZ"
   },
   "source": [
    "###### CoLab"
   ]
  },
  {
   "cell_type": "code",
   "execution_count": 1,
   "metadata": {
    "colab": {
     "base_uri": "https://localhost:8080/"
    },
    "id": "eKGYa9uWUzBa",
    "outputId": "ec7ad52f-d270-416a-dcbc-1a7c86d44e0c"
   },
   "outputs": [
    {
     "name": "stdout",
     "output_type": "stream",
     "text": [
      "\r",
      "0% [Working]\r",
      "            \r",
      "Get:1 http://security.ubuntu.com/ubuntu bionic-security InRelease [88.7 kB]\n",
      "\r",
      "0% [Connecting to archive.ubuntu.com (91.189.88.142)] [1 InRelease 14.2 kB/88.7\r",
      "                                                                               \r",
      "Ign:2 https://developer.download.nvidia.com/compute/cuda/repos/ubuntu1804/x86_64  InRelease\n",
      "\r",
      "0% [Connecting to archive.ubuntu.com (91.189.88.142)] [1 InRelease 63.4 kB/88.7\r",
      "0% [Connecting to archive.ubuntu.com (91.189.88.142)] [Waiting for headers] [Wa\r",
      "                                                                               \r",
      "Hit:3 https://cloud.r-project.org/bin/linux/ubuntu bionic-cran40/ InRelease\n",
      "\r",
      "                                                                               \r",
      "0% [Waiting for headers] [Waiting for headers] [Waiting for headers]\r",
      "0% [1 InRelease gpgv 88.7 kB] [Waiting for headers] [Waiting for headers] [Wait\r",
      "                                                                               \r",
      "Ign:4 https://developer.download.nvidia.com/compute/machine-learning/repos/ubuntu1804/x86_64  InRelease\n",
      "\r",
      "                                                                               \r",
      "0% [1 InRelease gpgv 88.7 kB] [Waiting for headers] [Waiting for headers]\r",
      "                                                                         \r",
      "Get:5 http://ppa.launchpad.net/c2d4u.team/c2d4u4.0+/ubuntu bionic InRelease [15.9 kB]\n",
      "Hit:6 https://developer.download.nvidia.com/compute/cuda/repos/ubuntu1804/x86_64  Release\n",
      "Hit:7 https://developer.download.nvidia.com/compute/machine-learning/repos/ubuntu1804/x86_64  Release\n",
      "Hit:8 http://archive.ubuntu.com/ubuntu bionic InRelease\n",
      "Get:9 http://archive.ubuntu.com/ubuntu bionic-updates InRelease [88.7 kB]\n",
      "Hit:10 http://ppa.launchpad.net/cran/libgit2/ubuntu bionic InRelease\n",
      "Get:11 http://archive.ubuntu.com/ubuntu bionic-backports InRelease [74.6 kB]\n",
      "Hit:12 http://ppa.launchpad.net/graphics-drivers/ppa/ubuntu bionic InRelease\n",
      "Get:15 http://ppa.launchpad.net/c2d4u.team/c2d4u4.0+/ubuntu bionic/main Sources [1,710 kB]\n",
      "Fetched 1,978 kB in 2s (855 kB/s)\n",
      "Reading package lists... Done\n"
     ]
    }
   ],
   "source": [
    "# Find the latest version of spark from http://www-us.apache.org/dist/spark/ \n",
    "spark_version = 'spark-3.0.1'\n",
    "\n",
    "# Set Environment Variables\n",
    "import os\n",
    "os.environ['SPARK_VERSION'] = spark_version\n",
    "os.environ['BASE_URL'] = 'http://www-us.apache.org/dist/spark'\n",
    "os.environ[\"JAVA_HOME\"] = \"/usr/lib/jvm/java-11-openjdk-amd64\"\n",
    "os.environ[\"SPARK_HOME\"] = f\"/content/{spark_version}-bin-hadoop2.7\"\n",
    "\n",
    "# Install spark, java, and findspark\n",
    "!apt-get update\n",
    "!apt-get install openjdk-11-jdk-headless -qq > /dev/null\n",
    "!wget -q $BASE_URL/$SPARK_VERSION/$SPARK_VERSION-bin-hadoop2.7.tgz\n",
    "!tar xf $SPARK_VERSION-bin-hadoop2.7.tgz\n",
    "!pip install -q findspark\n",
    "\n",
    "# Initialize spark session\n",
    "import findspark\n",
    "findspark.init()"
   ]
  },
  {
   "cell_type": "markdown",
   "metadata": {
    "id": "ijfjexlVUzBc"
   },
   "source": [
    "###### Postgres"
   ]
  },
  {
   "cell_type": "code",
   "execution_count": 2,
   "metadata": {
    "colab": {
     "base_uri": "https://localhost:8080/"
    },
    "id": "1rsmL_UtUzBc",
    "outputId": "1df8ff17-508e-43e5-d10f-4db730fd3374"
   },
   "outputs": [
    {
     "name": "stdout",
     "output_type": "stream",
     "text": [
      "--2021-01-17 23:14:40--  https://jdbc.postgresql.org/download/postgresql-42.2.16.jar\n",
      "Resolving jdbc.postgresql.org (jdbc.postgresql.org)... 72.32.157.228, 2001:4800:3e1:1::228\n",
      "Connecting to jdbc.postgresql.org (jdbc.postgresql.org)|72.32.157.228|:443... connected.\n",
      "HTTP request sent, awaiting response... 200 OK\n",
      "Length: 1002883 (979K) [application/java-archive]\n",
      "Saving to: ‘postgresql-42.2.16.jar.1’\n",
      "\n",
      "postgresql-42.2.16. 100%[===================>] 979.38K  --.-KB/s    in 0.1s    \n",
      "\n",
      "2021-01-17 23:14:40 (6.61 MB/s) - ‘postgresql-42.2.16.jar.1’ saved [1002883/1002883]\n",
      "\n"
     ]
    }
   ],
   "source": [
    "# Postgres version\n",
    "pg_version = 'postgresql-42.2.16.jar'\n",
    "\n",
    "# Download java database connector for postgres\n",
    "os.environ['PG_VERSION'] = pg_version\n",
    "!wget https://jdbc.postgresql.org/download/$PG_VERSION"
   ]
  },
  {
   "cell_type": "markdown",
   "metadata": {
    "id": "csTqFuYqY1CD"
   },
   "source": [
    "###### Spark session"
   ]
  },
  {
   "cell_type": "code",
   "execution_count": 3,
   "metadata": {
    "id": "qYv_QilhY0wg"
   },
   "outputs": [],
   "source": [
    "from pyspark.sql import SparkSession\n",
    "\n",
    "# Create session, add postgres drivers to path \n",
    "spark = SparkSession\\\n",
    "    .builder\\\n",
    "    .appName(\"reviewsETL\")\\\n",
    "    .config('spark.driver.extraClassPath', f'/content/{pg_version}')\\\n",
    "    .getOrCreate()\n"
   ]
  },
  {
   "cell_type": "markdown",
   "metadata": {
    "id": "-OZKWCMwUzBc"
   },
   "source": [
    "### Extract, transform, load"
   ]
  },
  {
   "cell_type": "markdown",
   "metadata": {
    "id": "0Y4RA35oUzBd"
   },
   "source": [
    "###### Extract from S3"
   ]
  },
  {
   "cell_type": "code",
   "execution_count": 4,
   "metadata": {
    "colab": {
     "base_uri": "https://localhost:8080/"
    },
    "id": "WrF_XfwEUzBd",
    "outputId": "6b9731a4-63ab-4969-a0ac-a8da2ba90099"
   },
   "outputs": [
    {
     "name": "stdout",
     "output_type": "stream",
     "text": [
      "+----------+------+----------+-----------+-------------+--------------------+\n",
      "|listing_id|    id|      date|reviewer_id|reviewer_name|            comments|\n",
      "+----------+------+----------+-----------+-------------+--------------------+\n",
      "|     17878| 64852|2010-07-15|     135370|          Tia|This apartment is...|\n",
      "|     17878| 76744|2010-08-11|      10206|         Mimi|we had a really g...|\n",
      "|     17878| 91074|2010-09-06|      80253|          Jan|Staying in Max ap...|\n",
      "|     17878|137528|2010-11-12|     230449|        Orene|In general very g...|\n",
      "|     17878|147594|2010-12-01|     219338|        David|The apt was nice ...|\n",
      "+----------+------+----------+-----------+-------------+--------------------+\n",
      "only showing top 5 rows\n",
      "\n"
     ]
    }
   ],
   "source": [
    "from config import s3_url\n",
    "from pyspark import SparkFiles\n",
    "import pandas as pd\n",
    "\n",
    "# Url for s3 bucket\n",
    "file = \"reviews.csv.gz\"\n",
    "\n",
    "# Add file to context\n",
    "spark.sparkContext.addFile(s3_url + file)\n",
    "\n",
    "# Set the following options to avoid issues parsing multiline text\n",
    "df = spark.read.csv(\n",
    "    SparkFiles.get(file), \n",
    "    header=True,\n",
    "    multiLine=True,\n",
    "    escape='\"')\n",
    "\n",
    "df.show(5)"
   ]
  },
  {
   "cell_type": "markdown",
   "metadata": {
    "id": "8_eT5Cm7UzBd"
   },
   "source": [
    "##### Aggregate, collect, and load into RDS"
   ]
  },
  {
   "cell_type": "markdown",
   "metadata": {
    "id": "7TPi5yyThc3i"
   },
   "source": [
    "###### Reviews\n"
   ]
  },
  {
   "cell_type": "code",
   "execution_count": 5,
   "metadata": {
    "colab": {
     "base_uri": "https://localhost:8080/"
    },
    "id": "tENgkqN4Y8cz",
    "outputId": "3aa35912-ac0d-41dd-b571-1c6a7b2234f5"
   },
   "outputs": [
    {
     "name": "stdout",
     "output_type": "stream",
     "text": [
      "+-----+--------------------+\n",
      "|   id|            comments|\n",
      "+-----+--------------------+\n",
      "|64852|This apartment is...|\n",
      "|76744|we had a really g...|\n",
      "|91074|Staying in Max ap...|\n",
      "+-----+--------------------+\n",
      "only showing top 3 rows\n",
      "\n"
     ]
    }
   ],
   "source": [
    "reviews = df.select(['id','comments'])\n",
    "reviews.show(3)"
   ]
  },
  {
   "cell_type": "code",
   "execution_count": 6,
   "metadata": {
    "colab": {
     "base_uri": "https://localhost:8080/"
    },
    "id": "zR7ED67Xmquo",
    "outputId": "e0d194ae-2b3f-4099-d14d-04406c26ad03"
   },
   "outputs": [
    {
     "name": "stdout",
     "output_type": "stream",
     "text": [
      "root\n",
      " |-- id: string (nullable = true)\n",
      " |-- comments: string (nullable = true)\n",
      "\n"
     ]
    }
   ],
   "source": [
    "reviews.printSchema()"
   ]
  },
  {
   "cell_type": "code",
   "execution_count": 7,
   "metadata": {
    "colab": {
     "base_uri": "https://localhost:8080/"
    },
    "id": "pQJ0PkFUmsiB",
    "outputId": "04ca7002-7f45-42b4-bdc7-ccf040caefd5"
   },
   "outputs": [
    {
     "name": "stdout",
     "output_type": "stream",
     "text": [
      "+-----+--------------------+\n",
      "|   id|            comments|\n",
      "+-----+--------------------+\n",
      "|64852|This apartment is...|\n",
      "|76744|we had a really g...|\n",
      "|91074|Staying in Max ap...|\n",
      "+-----+--------------------+\n",
      "only showing top 3 rows\n",
      "\n"
     ]
    }
   ],
   "source": [
    "from pyspark.sql.types import IntegerType\n",
    "\n",
    "# Convert 'id' from string to integer\n",
    "reviews = reviews.withColumn('id',reviews['id'].cast(IntegerType()))\n",
    "\n",
    "reviews.show(3)"
   ]
  },
  {
   "cell_type": "code",
   "execution_count": 8,
   "metadata": {
    "id": "zkNjmAOImGtH"
   },
   "outputs": [],
   "source": [
    "from config import properties, jdbc_url\n",
    "\n",
    "# Load into database\n",
    "reviews.write.jdbc(\n",
    "    table='reviews',\n",
    "    properties=properties,\n",
    "    mode='append',\n",
    "    url=jdbc_url\n",
    ")"
   ]
  },
  {
   "cell_type": "markdown",
   "metadata": {
    "id": "5rWsmG6VhvKu"
   },
   "source": [
    "###### Listings"
   ]
  },
  {
   "cell_type": "code",
   "execution_count": 9,
   "metadata": {
    "colab": {
     "base_uri": "https://localhost:8080/"
    },
    "id": "w9qZ8aZFZH0h",
    "outputId": "09f8f894-8a8b-4814-eaf5-0d1b3b085608"
   },
   "outputs": [
    {
     "name": "stdout",
     "output_type": "stream",
     "text": [
      "+-------+-----------------+\n",
      "|     id|number_of_reviews|\n",
      "+-------+-----------------+\n",
      "| 190204|               46|\n",
      "| 324679|               13|\n",
      "| 409183|               18|\n",
      "| 913832|               15|\n",
      "|1412255|               33|\n",
      "+-------+-----------------+\n",
      "only showing top 5 rows\n",
      "\n"
     ]
    }
   ],
   "source": [
    "# Group by `listing_id` to get number of reviews for each listing\n",
    "listings = df.groupBy('listing_id')\\\n",
    "    .agg({'id':'count'})\\\n",
    "    .withColumnRenamed('count(id)','number_of_reviews')\\\n",
    "    .withColumnRenamed('listing_id','id')\n",
    "\n",
    "listings.show(5)"
   ]
  },
  {
   "cell_type": "code",
   "execution_count": 10,
   "metadata": {
    "colab": {
     "base_uri": "https://localhost:8080/"
    },
    "id": "lcb3nipJdGuO",
    "outputId": "77235e24-dd57-48dd-8d30-dcd990cad6b3"
   },
   "outputs": [
    {
     "name": "stdout",
     "output_type": "stream",
     "text": [
      "root\n",
      " |-- id: string (nullable = true)\n",
      " |-- number_of_reviews: long (nullable = false)\n",
      "\n"
     ]
    }
   ],
   "source": [
    "listings.printSchema()"
   ]
  },
  {
   "cell_type": "code",
   "execution_count": 11,
   "metadata": {
    "colab": {
     "base_uri": "https://localhost:8080/"
    },
    "id": "x90dEfsndBAn",
    "outputId": "2e0cc7d0-416a-403b-86bc-4eda196ff6a6"
   },
   "outputs": [
    {
     "name": "stdout",
     "output_type": "stream",
     "text": [
      "root\n",
      " |-- id: integer (nullable = true)\n",
      " |-- number_of_reviews: long (nullable = false)\n",
      "\n"
     ]
    }
   ],
   "source": [
    "# Fix id column to match current database schema\n",
    "listings = listings.withColumn('id', listings['id'].cast(IntegerType()))\n",
    "listings.printSchema()"
   ]
  },
  {
   "cell_type": "code",
   "execution_count": 12,
   "metadata": {
    "id": "DHTlKtNjdMdL"
   },
   "outputs": [],
   "source": [
    "from config import properties, jdbc_url\n",
    "\n",
    "# Change mode if needed\n",
    "mode = 'overwrite'\n",
    "\n",
    "# Write to database\n",
    "listings.write.jdbc(\n",
    "    table='listings',\n",
    "    properties=properties,\n",
    "    url=jdbc_url,\n",
    "    mode=mode,\n",
    ")"
   ]
  },
  {
   "cell_type": "markdown",
   "metadata": {
    "id": "TZMNJnhQhx1W"
   },
   "source": [
    "###### Reviewers"
   ]
  },
  {
   "cell_type": "code",
   "execution_count": 13,
   "metadata": {
    "ExecuteTime": {
     "end_time": "2021-01-17T07:11:27.828793Z",
     "start_time": "2021-01-17T07:11:27.210015Z"
    },
    "colab": {
     "base_uri": "https://localhost:8080/"
    },
    "id": "ScEDydnBUzBe",
    "outputId": "77dcb579-21f5-45c0-c05f-ba8b0a15243f"
   },
   "outputs": [
    {
     "name": "stdout",
     "output_type": "stream",
     "text": [
      "+-----------+---------+\n",
      "|reviewer_id|count(id)|\n",
      "+-----------+---------+\n",
      "|      21452|        1|\n",
      "|   13159335|        1|\n",
      "|    8742267|        1|\n",
      "+-----------+---------+\n",
      "only showing top 3 rows\n",
      "\n"
     ]
    }
   ],
   "source": [
    "# Group by individual reviewers\n",
    "reviewers = df.groupBy('reviewer_id').agg({'id':'count'})\n",
    "reviewers.show(3)"
   ]
  },
  {
   "cell_type": "code",
   "execution_count": 14,
   "metadata": {
    "colab": {
     "base_uri": "https://localhost:8080/"
    },
    "id": "bIVteWfEfegw",
    "outputId": "65ba2cc9-49b1-414a-c67f-583a5c54ce84"
   },
   "outputs": [
    {
     "name": "stdout",
     "output_type": "stream",
     "text": [
      "+--------+-----------------+\n",
      "|      id|number_of_reviews|\n",
      "+--------+-----------------+\n",
      "|   21452|                1|\n",
      "|13159335|                1|\n",
      "| 8742267|                1|\n",
      "+--------+-----------------+\n",
      "only showing top 3 rows\n",
      "\n"
     ]
    }
   ],
   "source": [
    "# Get total number of reviews left by each unique reviewer\n",
    "reviewers = reviewers\\\n",
    "    .withColumnRenamed('count(id)','number_of_reviews')\\\n",
    "    .withColumnRenamed('reviewer_id','id')\n",
    "    \n",
    "reviewers.show(3)"
   ]
  },
  {
   "cell_type": "code",
   "execution_count": 15,
   "metadata": {
    "colab": {
     "base_uri": "https://localhost:8080/"
    },
    "id": "tqbJN6QZf7xo",
    "outputId": "cc73cce1-981f-41e9-b869-64370aeaef35"
   },
   "outputs": [
    {
     "name": "stdout",
     "output_type": "stream",
     "text": [
      "root\n",
      " |-- id: string (nullable = true)\n",
      " |-- number_of_reviews: long (nullable = false)\n",
      "\n"
     ]
    }
   ],
   "source": [
    "reviewers.printSchema()"
   ]
  },
  {
   "cell_type": "code",
   "execution_count": 16,
   "metadata": {
    "colab": {
     "base_uri": "https://localhost:8080/"
    },
    "id": "iQfN0BQ0gSv_",
    "outputId": "b4902fce-2ac8-4566-f790-7c087d5ae6fe"
   },
   "outputs": [
    {
     "name": "stdout",
     "output_type": "stream",
     "text": [
      "root\n",
      " |-- id: integer (nullable = true)\n",
      " |-- number_of_reviews: long (nullable = false)\n",
      "\n"
     ]
    }
   ],
   "source": [
    "# Fix id column to match current schema\n",
    "reviewers = reviewers.withColumn('id', reviewers['id'].cast(IntegerType()))\n",
    "reviewers.printSchema()"
   ]
  },
  {
   "cell_type": "code",
   "execution_count": 17,
   "metadata": {
    "id": "6TkJuXs4ghD9"
   },
   "outputs": [],
   "source": [
    "reviewers.write.jdbc(\n",
    "    table='reviewers',\n",
    "    properties=properties,\n",
    "    url=jdbc_url,\n",
    "    mode=mode,\n",
    ")"
   ]
  }
 ],
 "metadata": {
  "colab": {
   "collapsed_sections": [
    "0Y4RA35oUzBd"
   ],
   "name": "RioETL.ipynb",
   "provenance": [],
   "toc_visible": true
  },
  "kernelspec": {
   "display_name": "Python 3",
   "language": "python",
   "name": "python3"
  },
  "language_info": {
   "codemirror_mode": {
    "name": "ipython",
    "version": 3
   },
   "file_extension": ".py",
   "mimetype": "text/x-python",
   "name": "python",
   "nbconvert_exporter": "python",
   "pygments_lexer": "ipython3",
   "version": "3.7.4"
  }
 },
 "nbformat": 4,
 "nbformat_minor": 1
}
